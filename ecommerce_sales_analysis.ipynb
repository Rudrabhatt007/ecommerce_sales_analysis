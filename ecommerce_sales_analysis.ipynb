{
  "cells": [
    {
      "cell_type": "markdown",
      "id": "76a11380",
      "metadata": {
        "papermill": {
          "duration": 0.010868,
          "end_time": "2025-03-20T13:31:53.685096",
          "exception": false,
          "start_time": "2025-03-20T13:31:53.674228",
          "status": "completed"
        },
        "tags": [],
        "id": "76a11380"
      },
      "source": [
        "<div style=\"background-color: #CFD8DC; padding: 25px; border-radius: 10px;font-weight:10px\">\n",
        "  <h1 style=\"color: #333;\"><strong>Importing Libraries</strong></h1>\n",
        "</div>"
      ]
    },
    {
      "cell_type": "code",
      "execution_count": null,
      "id": "35516115",
      "metadata": {
        "_cell_guid": "b1076dfc-b9ad-4769-8c92-a6c4dae69d19",
        "_uuid": "8f2839f25d086af736a60e9eeb907d3b93b6e0e5",
        "execution": {
          "iopub.execute_input": "2025-03-20T13:31:53.708878Z",
          "iopub.status.busy": "2025-03-20T13:31:53.708478Z",
          "iopub.status.idle": "2025-03-20T13:31:58.155155Z",
          "shell.execute_reply": "2025-03-20T13:31:58.154373Z"
        },
        "papermill": {
          "duration": 4.460324,
          "end_time": "2025-03-20T13:31:58.156470",
          "exception": false,
          "start_time": "2025-03-20T13:31:53.696146",
          "status": "completed"
        },
        "tags": [],
        "id": "35516115",
        "outputId": "5f4b5793-c1fd-4fb4-d079-9c93ea3d940c"
      },
      "outputs": [
        {
          "name": "stdout",
          "output_type": "stream",
          "text": [
            "/kaggle/input/ecommerce-data-analysis/time_dim.csv\n",
            "/kaggle/input/ecommerce-data-analysis/fact_table.csv\n",
            "/kaggle/input/ecommerce-data-analysis/Trans_dim.csv\n",
            "/kaggle/input/ecommerce-data-analysis/item_dim.csv\n",
            "/kaggle/input/ecommerce-data-analysis/store_dim.csv\n",
            "/kaggle/input/ecommerce-data-analysis/customer_dim.csv\n"
          ]
        }
      ],
      "source": [
        "import numpy as np # linear algebra\n",
        "import pandas as pd # data processing, CSV file I/O (e.g. pd.read_csv)\n",
        "import matplotlib.pyplot as plt # Data visualization\n",
        "import seaborn as sns # Advance data visualization\n",
        "import sqlite3 as sql\n",
        "import plotly.express as px # Data Visualization\n",
        "\n"
      ]
    },
    {
      "cell_type": "markdown",
      "id": "f1affc99",
      "metadata": {
        "papermill": {
          "duration": 0.010778,
          "end_time": "2025-03-20T13:31:58.178862",
          "exception": false,
          "start_time": "2025-03-20T13:31:58.168084",
          "status": "completed"
        },
        "tags": [],
        "id": "f1affc99"
      },
      "source": [
        "<div style=\"background-color: #CFD8DC; padding: 25px; border-radius: 10px;\">\n",
        "  <h1 style=\"color: #333;\"><strong>Loading and Checking the dataset</strong></h1>\n",
        "</div>"
      ]
    },
    {
      "cell_type": "code",
      "execution_count": null,
      "id": "121f171a",
      "metadata": {
        "execution": {
          "iopub.execute_input": "2025-03-20T13:31:58.201586Z",
          "iopub.status.busy": "2025-03-20T13:31:58.201171Z",
          "iopub.status.idle": "2025-03-20T13:32:00.504865Z",
          "shell.execute_reply": "2025-03-20T13:32:00.504167Z"
        },
        "papermill": {
          "duration": 2.316615,
          "end_time": "2025-03-20T13:32:00.506385",
          "exception": false,
          "start_time": "2025-03-20T13:31:58.189770",
          "status": "completed"
        },
        "tags": [],
        "id": "121f171a"
      },
      "outputs": [],
      "source": [
        "time = pd.read_csv(\"/content/time_dim.csv\")\n",
        "fact = pd.read_csv(\"/content/fact_dim.csv\")\n",
        "trans = pd.read_csv(\"/content/Trans_dim.csv\")\n",
        "item = pd.read_csv(\"/content/item_dim.csv\", encoding=\"ISO-8859-1\")\n",
        "store = pd.read_csv(\"/content/store_dim.csv\")\n",
        "customer = pd.read_csv(\"/content/customer_dim.csv\", encoding=\"ISO-8859-1\")"
      ]
    },
    {
      "cell_type": "code",
      "execution_count": null,
      "id": "ea38fbb3",
      "metadata": {
        "execution": {
          "iopub.execute_input": "2025-03-20T13:32:00.530071Z",
          "iopub.status.busy": "2025-03-20T13:32:00.529796Z",
          "iopub.status.idle": "2025-03-20T13:32:00.554768Z",
          "shell.execute_reply": "2025-03-20T13:32:00.554042Z"
        },
        "papermill": {
          "duration": 0.038069,
          "end_time": "2025-03-20T13:32:00.556120",
          "exception": false,
          "start_time": "2025-03-20T13:32:00.518051",
          "status": "completed"
        },
        "tags": [],
        "id": "ea38fbb3",
        "outputId": "529e15d9-2d89-4d85-9ab4-55c3665ba487"
      },
      "outputs": [
        {
          "data": {
            "text/html": [
              "<div>\n",
              "<style scoped>\n",
              "    .dataframe tbody tr th:only-of-type {\n",
              "        vertical-align: middle;\n",
              "    }\n",
              "\n",
              "    .dataframe tbody tr th {\n",
              "        vertical-align: top;\n",
              "    }\n",
              "\n",
              "    .dataframe thead th {\n",
              "        text-align: right;\n",
              "    }\n",
              "</style>\n",
              "<table border=\"1\" class=\"dataframe\">\n",
              "  <thead>\n",
              "    <tr style=\"text-align: right;\">\n",
              "      <th></th>\n",
              "      <th>time_key</th>\n",
              "      <th>date</th>\n",
              "      <th>hour</th>\n",
              "      <th>day</th>\n",
              "      <th>week</th>\n",
              "      <th>month</th>\n",
              "      <th>quarter</th>\n",
              "      <th>year</th>\n",
              "    </tr>\n",
              "  </thead>\n",
              "  <tbody>\n",
              "    <tr>\n",
              "      <th>0</th>\n",
              "      <td>T00001</td>\n",
              "      <td>20-05-2017 14:56</td>\n",
              "      <td>14</td>\n",
              "      <td>20</td>\n",
              "      <td>3rd Week</td>\n",
              "      <td>5</td>\n",
              "      <td>Q2</td>\n",
              "      <td>2017</td>\n",
              "    </tr>\n",
              "    <tr>\n",
              "      <th>1</th>\n",
              "      <td>T00002</td>\n",
              "      <td>30-01-2015 22:14</td>\n",
              "      <td>22</td>\n",
              "      <td>30</td>\n",
              "      <td>4th Week</td>\n",
              "      <td>1</td>\n",
              "      <td>Q1</td>\n",
              "      <td>2015</td>\n",
              "    </tr>\n",
              "    <tr>\n",
              "      <th>2</th>\n",
              "      <td>T00003</td>\n",
              "      <td>14-03-2020 02:34</td>\n",
              "      <td>2</td>\n",
              "      <td>14</td>\n",
              "      <td>2nd Week</td>\n",
              "      <td>3</td>\n",
              "      <td>Q1</td>\n",
              "      <td>2020</td>\n",
              "    </tr>\n",
              "    <tr>\n",
              "      <th>3</th>\n",
              "      <td>T00004</td>\n",
              "      <td>27-04-2018 12:19</td>\n",
              "      <td>12</td>\n",
              "      <td>27</td>\n",
              "      <td>4th Week</td>\n",
              "      <td>4</td>\n",
              "      <td>Q2</td>\n",
              "      <td>2018</td>\n",
              "    </tr>\n",
              "    <tr>\n",
              "      <th>4</th>\n",
              "      <td>T00005</td>\n",
              "      <td>14-04-2018 10:43</td>\n",
              "      <td>10</td>\n",
              "      <td>14</td>\n",
              "      <td>2nd Week</td>\n",
              "      <td>4</td>\n",
              "      <td>Q2</td>\n",
              "      <td>2018</td>\n",
              "    </tr>\n",
              "  </tbody>\n",
              "</table>\n",
              "</div>"
            ],
            "text/plain": [
              "  time_key              date  hour  day      week  month quarter  year\n",
              "0   T00001  20-05-2017 14:56    14   20  3rd Week      5      Q2  2017\n",
              "1   T00002  30-01-2015 22:14    22   30  4th Week      1      Q1  2015\n",
              "2   T00003  14-03-2020 02:34     2   14  2nd Week      3      Q1  2020\n",
              "3   T00004  27-04-2018 12:19    12   27  4th Week      4      Q2  2018\n",
              "4   T00005  14-04-2018 10:43    10   14  2nd Week      4      Q2  2018"
            ]
          },
          "execution_count": 3,
          "metadata": {},
          "output_type": "execute_result"
        }
      ],
      "source": [
        "time.head()"
      ]
    },
    {
      "cell_type": "code",
      "execution_count": null,
      "id": "f2481a25",
      "metadata": {
        "execution": {
          "iopub.execute_input": "2025-03-20T13:32:00.581213Z",
          "iopub.status.busy": "2025-03-20T13:32:00.580998Z",
          "iopub.status.idle": "2025-03-20T13:32:00.591421Z",
          "shell.execute_reply": "2025-03-20T13:32:00.590626Z"
        },
        "papermill": {
          "duration": 0.023802,
          "end_time": "2025-03-20T13:32:00.592690",
          "exception": false,
          "start_time": "2025-03-20T13:32:00.568888",
          "status": "completed"
        },
        "tags": [],
        "id": "f2481a25",
        "outputId": "38cedad2-038c-42c6-927c-237f05ce71ca"
      },
      "outputs": [
        {
          "data": {
            "text/html": [
              "<div>\n",
              "<style scoped>\n",
              "    .dataframe tbody tr th:only-of-type {\n",
              "        vertical-align: middle;\n",
              "    }\n",
              "\n",
              "    .dataframe tbody tr th {\n",
              "        vertical-align: top;\n",
              "    }\n",
              "\n",
              "    .dataframe thead th {\n",
              "        text-align: right;\n",
              "    }\n",
              "</style>\n",
              "<table border=\"1\" class=\"dataframe\">\n",
              "  <thead>\n",
              "    <tr style=\"text-align: right;\">\n",
              "      <th></th>\n",
              "      <th>payment_key</th>\n",
              "      <th>coustomer_key</th>\n",
              "      <th>time_key</th>\n",
              "      <th>item_key</th>\n",
              "      <th>store_key</th>\n",
              "      <th>quantity</th>\n",
              "      <th>unit</th>\n",
              "      <th>unit_price</th>\n",
              "      <th>total_price</th>\n",
              "    </tr>\n",
              "  </thead>\n",
              "  <tbody>\n",
              "    <tr>\n",
              "      <th>0</th>\n",
              "      <td>P026</td>\n",
              "      <td>C004510</td>\n",
              "      <td>T049189</td>\n",
              "      <td>I00177</td>\n",
              "      <td>S00307</td>\n",
              "      <td>1</td>\n",
              "      <td>ct</td>\n",
              "      <td>35.0</td>\n",
              "      <td>35.0</td>\n",
              "    </tr>\n",
              "    <tr>\n",
              "      <th>1</th>\n",
              "      <td>P022</td>\n",
              "      <td>C008967</td>\n",
              "      <td>T041209</td>\n",
              "      <td>I00248</td>\n",
              "      <td>S00595</td>\n",
              "      <td>1</td>\n",
              "      <td>rolls</td>\n",
              "      <td>26.0</td>\n",
              "      <td>26.0</td>\n",
              "    </tr>\n",
              "    <tr>\n",
              "      <th>2</th>\n",
              "      <td>P030</td>\n",
              "      <td>C007261</td>\n",
              "      <td>T03633</td>\n",
              "      <td>I00195</td>\n",
              "      <td>S00496</td>\n",
              "      <td>8</td>\n",
              "      <td>ct</td>\n",
              "      <td>12.5</td>\n",
              "      <td>100.0</td>\n",
              "    </tr>\n",
              "    <tr>\n",
              "      <th>3</th>\n",
              "      <td>P032</td>\n",
              "      <td>C007048</td>\n",
              "      <td>T084631</td>\n",
              "      <td>I00131</td>\n",
              "      <td>S0086</td>\n",
              "      <td>8</td>\n",
              "      <td>ct</td>\n",
              "      <td>14.0</td>\n",
              "      <td>112.0</td>\n",
              "    </tr>\n",
              "    <tr>\n",
              "      <th>4</th>\n",
              "      <td>P014</td>\n",
              "      <td>C006430</td>\n",
              "      <td>T071276</td>\n",
              "      <td>I00050</td>\n",
              "      <td>S00488</td>\n",
              "      <td>8</td>\n",
              "      <td>cans</td>\n",
              "      <td>8.0</td>\n",
              "      <td>64.0</td>\n",
              "    </tr>\n",
              "  </tbody>\n",
              "</table>\n",
              "</div>"
            ],
            "text/plain": [
              "  payment_key coustomer_key time_key item_key store_key  quantity   unit  \\\n",
              "0        P026       C004510  T049189   I00177    S00307         1     ct   \n",
              "1        P022       C008967  T041209   I00248    S00595         1  rolls   \n",
              "2        P030       C007261   T03633   I00195    S00496         8     ct   \n",
              "3        P032       C007048  T084631   I00131     S0086         8     ct   \n",
              "4        P014       C006430  T071276   I00050    S00488         8   cans   \n",
              "\n",
              "   unit_price  total_price  \n",
              "0        35.0         35.0  \n",
              "1        26.0         26.0  \n",
              "2        12.5        100.0  \n",
              "3        14.0        112.0  \n",
              "4         8.0         64.0  "
            ]
          },
          "execution_count": 4,
          "metadata": {},
          "output_type": "execute_result"
        }
      ],
      "source": [
        "fact.head()"
      ]
    },
    {
      "cell_type": "code",
      "execution_count": null,
      "id": "dec0562a",
      "metadata": {
        "execution": {
          "iopub.execute_input": "2025-03-20T13:32:00.617462Z",
          "iopub.status.busy": "2025-03-20T13:32:00.617206Z",
          "iopub.status.idle": "2025-03-20T13:32:00.624029Z",
          "shell.execute_reply": "2025-03-20T13:32:00.623296Z"
        },
        "papermill": {
          "duration": 0.020039,
          "end_time": "2025-03-20T13:32:00.625351",
          "exception": false,
          "start_time": "2025-03-20T13:32:00.605312",
          "status": "completed"
        },
        "tags": [],
        "id": "dec0562a",
        "outputId": "15e777ab-b230-4c94-e648-ac6bd349aa8b"
      },
      "outputs": [
        {
          "data": {
            "text/html": [
              "<div>\n",
              "<style scoped>\n",
              "    .dataframe tbody tr th:only-of-type {\n",
              "        vertical-align: middle;\n",
              "    }\n",
              "\n",
              "    .dataframe tbody tr th {\n",
              "        vertical-align: top;\n",
              "    }\n",
              "\n",
              "    .dataframe thead th {\n",
              "        text-align: right;\n",
              "    }\n",
              "</style>\n",
              "<table border=\"1\" class=\"dataframe\">\n",
              "  <thead>\n",
              "    <tr style=\"text-align: right;\">\n",
              "      <th></th>\n",
              "      <th>payment_key</th>\n",
              "      <th>trans_type</th>\n",
              "      <th>bank_name</th>\n",
              "    </tr>\n",
              "  </thead>\n",
              "  <tbody>\n",
              "    <tr>\n",
              "      <th>0</th>\n",
              "      <td>P001</td>\n",
              "      <td>cash</td>\n",
              "      <td>NaN</td>\n",
              "    </tr>\n",
              "    <tr>\n",
              "      <th>1</th>\n",
              "      <td>P002</td>\n",
              "      <td>card</td>\n",
              "      <td>AB Bank Limited</td>\n",
              "    </tr>\n",
              "    <tr>\n",
              "      <th>2</th>\n",
              "      <td>P003</td>\n",
              "      <td>card</td>\n",
              "      <td>Bangladesh Commerce Bank Limited</td>\n",
              "    </tr>\n",
              "    <tr>\n",
              "      <th>3</th>\n",
              "      <td>P004</td>\n",
              "      <td>card</td>\n",
              "      <td>Bank Asia Limited</td>\n",
              "    </tr>\n",
              "    <tr>\n",
              "      <th>4</th>\n",
              "      <td>P005</td>\n",
              "      <td>card</td>\n",
              "      <td>BRAC Bank Limited</td>\n",
              "    </tr>\n",
              "  </tbody>\n",
              "</table>\n",
              "</div>"
            ],
            "text/plain": [
              "  payment_key trans_type                         bank_name\n",
              "0        P001       cash                               NaN\n",
              "1        P002       card                   AB Bank Limited\n",
              "2        P003       card  Bangladesh Commerce Bank Limited\n",
              "3        P004       card                 Bank Asia Limited\n",
              "4        P005       card                 BRAC Bank Limited"
            ]
          },
          "execution_count": 5,
          "metadata": {},
          "output_type": "execute_result"
        }
      ],
      "source": [
        "trans.head()"
      ]
    },
    {
      "cell_type": "code",
      "execution_count": null,
      "id": "807c75f5",
      "metadata": {
        "execution": {
          "iopub.execute_input": "2025-03-20T13:32:00.649240Z",
          "iopub.status.busy": "2025-03-20T13:32:00.649024Z",
          "iopub.status.idle": "2025-03-20T13:32:00.657871Z",
          "shell.execute_reply": "2025-03-20T13:32:00.657083Z"
        },
        "papermill": {
          "duration": 0.022027,
          "end_time": "2025-03-20T13:32:00.659039",
          "exception": false,
          "start_time": "2025-03-20T13:32:00.637012",
          "status": "completed"
        },
        "tags": [],
        "id": "807c75f5",
        "outputId": "726c9437-6e3b-44ba-8012-416b8a89c96e"
      },
      "outputs": [
        {
          "data": {
            "text/html": [
              "<div>\n",
              "<style scoped>\n",
              "    .dataframe tbody tr th:only-of-type {\n",
              "        vertical-align: middle;\n",
              "    }\n",
              "\n",
              "    .dataframe tbody tr th {\n",
              "        vertical-align: top;\n",
              "    }\n",
              "\n",
              "    .dataframe thead th {\n",
              "        text-align: right;\n",
              "    }\n",
              "</style>\n",
              "<table border=\"1\" class=\"dataframe\">\n",
              "  <thead>\n",
              "    <tr style=\"text-align: right;\">\n",
              "      <th></th>\n",
              "      <th>item_key</th>\n",
              "      <th>item_name</th>\n",
              "      <th>desc</th>\n",
              "      <th>unit_price</th>\n",
              "      <th>man_country</th>\n",
              "      <th>supplier</th>\n",
              "      <th>unit</th>\n",
              "    </tr>\n",
              "  </thead>\n",
              "  <tbody>\n",
              "    <tr>\n",
              "      <th>0</th>\n",
              "      <td>I00001</td>\n",
              "      <td>A&amp;W Root Beer - 12 oz cans</td>\n",
              "      <td>a. Beverage - Soda</td>\n",
              "      <td>11.50</td>\n",
              "      <td>Netherlands</td>\n",
              "      <td>Bolsius Boxmeer</td>\n",
              "      <td>cans</td>\n",
              "    </tr>\n",
              "    <tr>\n",
              "      <th>1</th>\n",
              "      <td>I00002</td>\n",
              "      <td>A&amp;W Root Beer Diet - 12 oz cans</td>\n",
              "      <td>a. Beverage - Soda</td>\n",
              "      <td>6.75</td>\n",
              "      <td>poland</td>\n",
              "      <td>CHROMADURLIN S.A.S</td>\n",
              "      <td>cans</td>\n",
              "    </tr>\n",
              "    <tr>\n",
              "      <th>2</th>\n",
              "      <td>I00003</td>\n",
              "      <td>Barq's Root Beer - 12 oz cans</td>\n",
              "      <td>a. Beverage - Soda</td>\n",
              "      <td>6.75</td>\n",
              "      <td>Bangladesh</td>\n",
              "      <td>DENIMACH LTD</td>\n",
              "      <td>cans</td>\n",
              "    </tr>\n",
              "    <tr>\n",
              "      <th>3</th>\n",
              "      <td>I00004</td>\n",
              "      <td>Cherry Coke 12oz</td>\n",
              "      <td>a. Beverage - Soda</td>\n",
              "      <td>6.75</td>\n",
              "      <td>Netherlands</td>\n",
              "      <td>Bolsius Boxmeer</td>\n",
              "      <td>cans</td>\n",
              "    </tr>\n",
              "    <tr>\n",
              "      <th>4</th>\n",
              "      <td>I00005</td>\n",
              "      <td>Cherry Coke Zero 12 pack</td>\n",
              "      <td>a. Beverage - Soda</td>\n",
              "      <td>6.75</td>\n",
              "      <td>Finland</td>\n",
              "      <td>HARDFORD AB</td>\n",
              "      <td>cans</td>\n",
              "    </tr>\n",
              "  </tbody>\n",
              "</table>\n",
              "</div>"
            ],
            "text/plain": [
              "  item_key                        item_name                desc  unit_price  \\\n",
              "0   I00001       A&W Root Beer - 12 oz cans  a. Beverage - Soda       11.50   \n",
              "1   I00002  A&W Root Beer Diet - 12 oz cans  a. Beverage - Soda        6.75   \n",
              "2   I00003    Barq's Root Beer - 12 oz cans  a. Beverage - Soda        6.75   \n",
              "3   I00004                 Cherry Coke 12oz  a. Beverage - Soda        6.75   \n",
              "4   I00005         Cherry Coke Zero 12 pack  a. Beverage - Soda        6.75   \n",
              "\n",
              "   man_country            supplier  unit  \n",
              "0  Netherlands     Bolsius Boxmeer  cans  \n",
              "1       poland  CHROMADURLIN S.A.S  cans  \n",
              "2   Bangladesh        DENIMACH LTD  cans  \n",
              "3  Netherlands     Bolsius Boxmeer  cans  \n",
              "4      Finland         HARDFORD AB  cans  "
            ]
          },
          "execution_count": 6,
          "metadata": {},
          "output_type": "execute_result"
        }
      ],
      "source": [
        "item.head()"
      ]
    },
    {
      "cell_type": "code",
      "execution_count": null,
      "id": "faed011f",
      "metadata": {
        "execution": {
          "iopub.execute_input": "2025-03-20T13:32:00.683498Z",
          "iopub.status.busy": "2025-03-20T13:32:00.683285Z",
          "iopub.status.idle": "2025-03-20T13:32:00.690362Z",
          "shell.execute_reply": "2025-03-20T13:32:00.689545Z"
        },
        "papermill": {
          "duration": 0.020808,
          "end_time": "2025-03-20T13:32:00.691607",
          "exception": false,
          "start_time": "2025-03-20T13:32:00.670799",
          "status": "completed"
        },
        "tags": [],
        "id": "faed011f",
        "outputId": "710ad941-137b-442a-8a1c-ce6490745273"
      },
      "outputs": [
        {
          "data": {
            "text/html": [
              "<div>\n",
              "<style scoped>\n",
              "    .dataframe tbody tr th:only-of-type {\n",
              "        vertical-align: middle;\n",
              "    }\n",
              "\n",
              "    .dataframe tbody tr th {\n",
              "        vertical-align: top;\n",
              "    }\n",
              "\n",
              "    .dataframe thead th {\n",
              "        text-align: right;\n",
              "    }\n",
              "</style>\n",
              "<table border=\"1\" class=\"dataframe\">\n",
              "  <thead>\n",
              "    <tr style=\"text-align: right;\">\n",
              "      <th></th>\n",
              "      <th>store_key</th>\n",
              "      <th>division</th>\n",
              "      <th>district</th>\n",
              "      <th>upazila</th>\n",
              "    </tr>\n",
              "  </thead>\n",
              "  <tbody>\n",
              "    <tr>\n",
              "      <th>0</th>\n",
              "      <td>S0001</td>\n",
              "      <td>SYLHET</td>\n",
              "      <td>HABIGANJ</td>\n",
              "      <td>AJMIRIGANJ</td>\n",
              "    </tr>\n",
              "    <tr>\n",
              "      <th>1</th>\n",
              "      <td>S0002</td>\n",
              "      <td>SYLHET</td>\n",
              "      <td>HABIGANJ</td>\n",
              "      <td>BAHUBAL</td>\n",
              "    </tr>\n",
              "    <tr>\n",
              "      <th>2</th>\n",
              "      <td>S0003</td>\n",
              "      <td>SYLHET</td>\n",
              "      <td>HABIGANJ</td>\n",
              "      <td>BANIACHONG</td>\n",
              "    </tr>\n",
              "    <tr>\n",
              "      <th>3</th>\n",
              "      <td>S0004</td>\n",
              "      <td>SYLHET</td>\n",
              "      <td>HABIGANJ</td>\n",
              "      <td>CHUNARUGHAT</td>\n",
              "    </tr>\n",
              "    <tr>\n",
              "      <th>4</th>\n",
              "      <td>S0005</td>\n",
              "      <td>SYLHET</td>\n",
              "      <td>HABIGANJ</td>\n",
              "      <td>HABIGANJ SADAR</td>\n",
              "    </tr>\n",
              "  </tbody>\n",
              "</table>\n",
              "</div>"
            ],
            "text/plain": [
              "  store_key division  district         upazila\n",
              "0     S0001   SYLHET  HABIGANJ      AJMIRIGANJ\n",
              "1     S0002   SYLHET  HABIGANJ         BAHUBAL\n",
              "2     S0003   SYLHET  HABIGANJ      BANIACHONG\n",
              "3     S0004   SYLHET  HABIGANJ     CHUNARUGHAT\n",
              "4     S0005   SYLHET  HABIGANJ  HABIGANJ SADAR"
            ]
          },
          "execution_count": 7,
          "metadata": {},
          "output_type": "execute_result"
        }
      ],
      "source": [
        "store.head()"
      ]
    },
    {
      "cell_type": "code",
      "execution_count": null,
      "id": "2ec4a04e",
      "metadata": {
        "execution": {
          "iopub.execute_input": "2025-03-20T13:32:00.715828Z",
          "iopub.status.busy": "2025-03-20T13:32:00.715631Z",
          "iopub.status.idle": "2025-03-20T13:32:00.722352Z",
          "shell.execute_reply": "2025-03-20T13:32:00.721612Z"
        },
        "papermill": {
          "duration": 0.020239,
          "end_time": "2025-03-20T13:32:00.723621",
          "exception": false,
          "start_time": "2025-03-20T13:32:00.703382",
          "status": "completed"
        },
        "tags": [],
        "id": "2ec4a04e",
        "outputId": "69b3d979-34b1-475b-cbe0-b8d2fc6a9629"
      },
      "outputs": [
        {
          "data": {
            "text/html": [
              "<div>\n",
              "<style scoped>\n",
              "    .dataframe tbody tr th:only-of-type {\n",
              "        vertical-align: middle;\n",
              "    }\n",
              "\n",
              "    .dataframe tbody tr th {\n",
              "        vertical-align: top;\n",
              "    }\n",
              "\n",
              "    .dataframe thead th {\n",
              "        text-align: right;\n",
              "    }\n",
              "</style>\n",
              "<table border=\"1\" class=\"dataframe\">\n",
              "  <thead>\n",
              "    <tr style=\"text-align: right;\">\n",
              "      <th></th>\n",
              "      <th>coustomer_key</th>\n",
              "      <th>name</th>\n",
              "      <th>contact_no</th>\n",
              "      <th>nid</th>\n",
              "    </tr>\n",
              "  </thead>\n",
              "  <tbody>\n",
              "    <tr>\n",
              "      <th>0</th>\n",
              "      <td>C000001</td>\n",
              "      <td>sumit</td>\n",
              "      <td>8801920345851</td>\n",
              "      <td>7505075708899</td>\n",
              "    </tr>\n",
              "    <tr>\n",
              "      <th>1</th>\n",
              "      <td>C000002</td>\n",
              "      <td>tammanne</td>\n",
              "      <td>8801817069329</td>\n",
              "      <td>1977731324842</td>\n",
              "    </tr>\n",
              "    <tr>\n",
              "      <th>2</th>\n",
              "      <td>C000003</td>\n",
              "      <td>kailash kumar</td>\n",
              "      <td>8801663795774</td>\n",
              "      <td>3769494056318</td>\n",
              "    </tr>\n",
              "    <tr>\n",
              "      <th>3</th>\n",
              "      <td>C000004</td>\n",
              "      <td>bhagwati prasad</td>\n",
              "      <td>8801533627961</td>\n",
              "      <td>9378834712725</td>\n",
              "    </tr>\n",
              "    <tr>\n",
              "      <th>4</th>\n",
              "      <td>C000005</td>\n",
              "      <td>ajay</td>\n",
              "      <td>8801943715786</td>\n",
              "      <td>3540815556323</td>\n",
              "    </tr>\n",
              "  </tbody>\n",
              "</table>\n",
              "</div>"
            ],
            "text/plain": [
              "  coustomer_key             name     contact_no            nid\n",
              "0       C000001            sumit  8801920345851  7505075708899\n",
              "1       C000002         tammanne  8801817069329  1977731324842\n",
              "2       C000003    kailash kumar  8801663795774  3769494056318\n",
              "3       C000004  bhagwati prasad  8801533627961  9378834712725\n",
              "4       C000005             ajay  8801943715786  3540815556323"
            ]
          },
          "execution_count": 8,
          "metadata": {},
          "output_type": "execute_result"
        }
      ],
      "source": [
        "customer.head()"
      ]
    },
    {
      "cell_type": "code",
      "execution_count": null,
      "id": "b2d48f9e",
      "metadata": {
        "execution": {
          "iopub.execute_input": "2025-03-20T13:32:00.750926Z",
          "iopub.status.busy": "2025-03-20T13:32:00.750711Z",
          "iopub.status.idle": "2025-03-20T13:32:05.267871Z",
          "shell.execute_reply": "2025-03-20T13:32:05.267188Z"
        },
        "papermill": {
          "duration": 4.532702,
          "end_time": "2025-03-20T13:32:05.269343",
          "exception": false,
          "start_time": "2025-03-20T13:32:00.736641",
          "status": "completed"
        },
        "tags": [],
        "id": "b2d48f9e"
      },
      "outputs": [],
      "source": [
        "df = store.merge(fact,on = \"store_key\")\n",
        "df = df.merge(customer,on = \"coustomer_key\")\n",
        "df = df.merge(item, on = \"item_key\")\n",
        "df = df.merge(trans, on = \"payment_key\")\n",
        "df = df.merge(time, on = \"time_key\")"
      ]
    },
    {
      "cell_type": "code",
      "execution_count": null,
      "id": "f2022468",
      "metadata": {
        "execution": {
          "iopub.execute_input": "2025-03-20T13:32:05.295078Z",
          "iopub.status.busy": "2025-03-20T13:32:05.294841Z",
          "iopub.status.idle": "2025-03-20T13:32:05.310945Z",
          "shell.execute_reply": "2025-03-20T13:32:05.310095Z"
        },
        "papermill": {
          "duration": 0.030081,
          "end_time": "2025-03-20T13:32:05.312335",
          "exception": false,
          "start_time": "2025-03-20T13:32:05.282254",
          "status": "completed"
        },
        "tags": [],
        "id": "f2022468",
        "outputId": "2ee5d177-d694-4e4f-eda8-d0efa028e715"
      },
      "outputs": [
        {
          "data": {
            "text/html": [
              "<div>\n",
              "<style scoped>\n",
              "    .dataframe tbody tr th:only-of-type {\n",
              "        vertical-align: middle;\n",
              "    }\n",
              "\n",
              "    .dataframe tbody tr th {\n",
              "        vertical-align: top;\n",
              "    }\n",
              "\n",
              "    .dataframe thead th {\n",
              "        text-align: right;\n",
              "    }\n",
              "</style>\n",
              "<table border=\"1\" class=\"dataframe\">\n",
              "  <thead>\n",
              "    <tr style=\"text-align: right;\">\n",
              "      <th></th>\n",
              "      <th>store_key</th>\n",
              "      <th>division</th>\n",
              "      <th>district</th>\n",
              "      <th>upazila</th>\n",
              "      <th>payment_key</th>\n",
              "      <th>coustomer_key</th>\n",
              "      <th>time_key</th>\n",
              "      <th>item_key</th>\n",
              "      <th>quantity</th>\n",
              "      <th>unit_x</th>\n",
              "      <th>...</th>\n",
              "      <th>unit_y</th>\n",
              "      <th>trans_type</th>\n",
              "      <th>bank_name</th>\n",
              "      <th>date</th>\n",
              "      <th>hour</th>\n",
              "      <th>day</th>\n",
              "      <th>week</th>\n",
              "      <th>month</th>\n",
              "      <th>quarter</th>\n",
              "      <th>year</th>\n",
              "    </tr>\n",
              "  </thead>\n",
              "  <tbody>\n",
              "    <tr>\n",
              "      <th>0</th>\n",
              "      <td>S0001</td>\n",
              "      <td>SYLHET</td>\n",
              "      <td>HABIGANJ</td>\n",
              "      <td>AJMIRIGANJ</td>\n",
              "      <td>P011</td>\n",
              "      <td>C000470</td>\n",
              "      <td>T070430</td>\n",
              "      <td>I00093</td>\n",
              "      <td>11</td>\n",
              "      <td>bottles</td>\n",
              "      <td>...</td>\n",
              "      <td>bottles</td>\n",
              "      <td>card</td>\n",
              "      <td>Eastern Bank Limited</td>\n",
              "      <td>19-12-2017 13:05</td>\n",
              "      <td>13</td>\n",
              "      <td>19</td>\n",
              "      <td>3rd Week</td>\n",
              "      <td>12</td>\n",
              "      <td>Q4</td>\n",
              "      <td>2017</td>\n",
              "    </tr>\n",
              "    <tr>\n",
              "      <th>1</th>\n",
              "      <td>S0001</td>\n",
              "      <td>SYLHET</td>\n",
              "      <td>HABIGANJ</td>\n",
              "      <td>AJMIRIGANJ</td>\n",
              "      <td>P038</td>\n",
              "      <td>C006880</td>\n",
              "      <td>T030846</td>\n",
              "      <td>I00099</td>\n",
              "      <td>1</td>\n",
              "      <td>oz</td>\n",
              "      <td>...</td>\n",
              "      <td>oz</td>\n",
              "      <td>mobile</td>\n",
              "      <td>Rocket</td>\n",
              "      <td>27-10-2020 13:19</td>\n",
              "      <td>13</td>\n",
              "      <td>27</td>\n",
              "      <td>4th Week</td>\n",
              "      <td>10</td>\n",
              "      <td>Q4</td>\n",
              "      <td>2020</td>\n",
              "    </tr>\n",
              "    <tr>\n",
              "      <th>2</th>\n",
              "      <td>S0001</td>\n",
              "      <td>SYLHET</td>\n",
              "      <td>HABIGANJ</td>\n",
              "      <td>AJMIRIGANJ</td>\n",
              "      <td>P022</td>\n",
              "      <td>C000199</td>\n",
              "      <td>T047135</td>\n",
              "      <td>I00140</td>\n",
              "      <td>1</td>\n",
              "      <td>ct</td>\n",
              "      <td>...</td>\n",
              "      <td>ct</td>\n",
              "      <td>card</td>\n",
              "      <td>NRB Commercial Bank Ltd</td>\n",
              "      <td>10-10-2019 12:51</td>\n",
              "      <td>12</td>\n",
              "      <td>10</td>\n",
              "      <td>2nd Week</td>\n",
              "      <td>10</td>\n",
              "      <td>Q4</td>\n",
              "      <td>2019</td>\n",
              "    </tr>\n",
              "    <tr>\n",
              "      <th>3</th>\n",
              "      <td>S0001</td>\n",
              "      <td>SYLHET</td>\n",
              "      <td>HABIGANJ</td>\n",
              "      <td>AJMIRIGANJ</td>\n",
              "      <td>P013</td>\n",
              "      <td>C004969</td>\n",
              "      <td>T019043</td>\n",
              "      <td>I00216</td>\n",
              "      <td>11</td>\n",
              "      <td>ct</td>\n",
              "      <td>...</td>\n",
              "      <td>ct</td>\n",
              "      <td>card</td>\n",
              "      <td>Jamuna Bank Limited</td>\n",
              "      <td>27-11-2020 16:28</td>\n",
              "      <td>16</td>\n",
              "      <td>27</td>\n",
              "      <td>4th Week</td>\n",
              "      <td>11</td>\n",
              "      <td>Q4</td>\n",
              "      <td>2020</td>\n",
              "    </tr>\n",
              "    <tr>\n",
              "      <th>4</th>\n",
              "      <td>S0001</td>\n",
              "      <td>SYLHET</td>\n",
              "      <td>HABIGANJ</td>\n",
              "      <td>AJMIRIGANJ</td>\n",
              "      <td>P012</td>\n",
              "      <td>C002554</td>\n",
              "      <td>T018268</td>\n",
              "      <td>I00194</td>\n",
              "      <td>3</td>\n",
              "      <td>bars</td>\n",
              "      <td>...</td>\n",
              "      <td>bars</td>\n",
              "      <td>card</td>\n",
              "      <td>IFIC Bank Limited</td>\n",
              "      <td>06-01-2016 23:47</td>\n",
              "      <td>23</td>\n",
              "      <td>6</td>\n",
              "      <td>1st Week</td>\n",
              "      <td>1</td>\n",
              "      <td>Q1</td>\n",
              "      <td>2016</td>\n",
              "    </tr>\n",
              "  </tbody>\n",
              "</table>\n",
              "<p>5 rows × 30 columns</p>\n",
              "</div>"
            ],
            "text/plain": [
              "  store_key division  district     upazila payment_key coustomer_key time_key  \\\n",
              "0     S0001   SYLHET  HABIGANJ  AJMIRIGANJ        P011       C000470  T070430   \n",
              "1     S0001   SYLHET  HABIGANJ  AJMIRIGANJ        P038       C006880  T030846   \n",
              "2     S0001   SYLHET  HABIGANJ  AJMIRIGANJ        P022       C000199  T047135   \n",
              "3     S0001   SYLHET  HABIGANJ  AJMIRIGANJ        P013       C004969  T019043   \n",
              "4     S0001   SYLHET  HABIGANJ  AJMIRIGANJ        P012       C002554  T018268   \n",
              "\n",
              "  item_key  quantity   unit_x  ...   unit_y  trans_type  \\\n",
              "0   I00093        11  bottles  ...  bottles        card   \n",
              "1   I00099         1       oz  ...       oz      mobile   \n",
              "2   I00140         1       ct  ...       ct        card   \n",
              "3   I00216        11       ct  ...       ct        card   \n",
              "4   I00194         3     bars  ...     bars        card   \n",
              "\n",
              "                 bank_name              date  hour day      week  month  \\\n",
              "0     Eastern Bank Limited  19-12-2017 13:05    13  19  3rd Week     12   \n",
              "1                   Rocket  27-10-2020 13:19    13  27  4th Week     10   \n",
              "2  NRB Commercial Bank Ltd  10-10-2019 12:51    12  10  2nd Week     10   \n",
              "3      Jamuna Bank Limited  27-11-2020 16:28    16  27  4th Week     11   \n",
              "4        IFIC Bank Limited  06-01-2016 23:47    23   6  1st Week      1   \n",
              "\n",
              "  quarter  year  \n",
              "0      Q4  2017  \n",
              "1      Q4  2020  \n",
              "2      Q4  2019  \n",
              "3      Q4  2020  \n",
              "4      Q1  2016  \n",
              "\n",
              "[5 rows x 30 columns]"
            ]
          },
          "execution_count": 10,
          "metadata": {},
          "output_type": "execute_result"
        }
      ],
      "source": [
        "df.head()"
      ]
    },
    {
      "cell_type": "markdown",
      "id": "3551f1e4",
      "metadata": {
        "papermill": {
          "duration": 0.012601,
          "end_time": "2025-03-20T13:32:05.337695",
          "exception": false,
          "start_time": "2025-03-20T13:32:05.325094",
          "status": "completed"
        },
        "tags": [],
        "id": "3551f1e4"
      },
      "source": [
        "<div style=\"background-color: #CFD8DC; padding: 25px; border-radius: 10px;\">\n",
        "  <h1 style=\"color: #333;\"><strong>Information About the dataset</strong></h1>\n",
        "</div>"
      ]
    },
    {
      "cell_type": "code",
      "execution_count": null,
      "id": "5b2e3f6f",
      "metadata": {
        "execution": {
          "iopub.execute_input": "2025-03-20T13:32:05.362664Z",
          "iopub.status.busy": "2025-03-20T13:32:05.362429Z",
          "iopub.status.idle": "2025-03-20T13:32:06.313762Z",
          "shell.execute_reply": "2025-03-20T13:32:06.312580Z"
        },
        "papermill": {
          "duration": 0.965379,
          "end_time": "2025-03-20T13:32:06.315149",
          "exception": false,
          "start_time": "2025-03-20T13:32:05.349770",
          "status": "completed"
        },
        "tags": [],
        "id": "5b2e3f6f",
        "outputId": "6c1023e2-295d-4ed5-8987-2b085db474f4"
      },
      "outputs": [
        {
          "name": "stdout",
          "output_type": "stream",
          "text": [
            "<class 'pandas.core.frame.DataFrame'>\n",
            "RangeIndex: 1000000 entries, 0 to 999999\n",
            "Data columns (total 30 columns):\n",
            " #   Column         Non-Null Count    Dtype  \n",
            "---  ------         --------------    -----  \n",
            " 0   store_key      1000000 non-null  object \n",
            " 1   division       1000000 non-null  object \n",
            " 2   district       1000000 non-null  object \n",
            " 3   upazila        1000000 non-null  object \n",
            " 4   payment_key    1000000 non-null  object \n",
            " 5   coustomer_key  1000000 non-null  object \n",
            " 6   time_key       1000000 non-null  object \n",
            " 7   item_key       1000000 non-null  object \n",
            " 8   quantity       1000000 non-null  int64  \n",
            " 9   unit_x         996277 non-null   object \n",
            " 10  unit_price_x   1000000 non-null  float64\n",
            " 11  total_price    1000000 non-null  float64\n",
            " 12  name           997010 non-null   object \n",
            " 13  contact_no     1000000 non-null  int64  \n",
            " 14  nid            1000000 non-null  int64  \n",
            " 15  item_name      1000000 non-null  object \n",
            " 16  desc           1000000 non-null  object \n",
            " 17  unit_price_y   1000000 non-null  float64\n",
            " 18  man_country    1000000 non-null  object \n",
            " 19  supplier       1000000 non-null  object \n",
            " 20  unit_y         996277 non-null   object \n",
            " 21  trans_type     1000000 non-null  object \n",
            " 22  bank_name      974410 non-null   object \n",
            " 23  date           1000000 non-null  object \n",
            " 24  hour           1000000 non-null  int64  \n",
            " 25  day            1000000 non-null  int64  \n",
            " 26  week           1000000 non-null  object \n",
            " 27  month          1000000 non-null  int64  \n",
            " 28  quarter        1000000 non-null  object \n",
            " 29  year           1000000 non-null  int64  \n",
            "dtypes: float64(3), int64(7), object(20)\n",
            "memory usage: 228.9+ MB\n"
          ]
        }
      ],
      "source": [
        "df.info()"
      ]
    },
    {
      "cell_type": "code",
      "execution_count": null,
      "id": "2f215858",
      "metadata": {
        "execution": {
          "iopub.execute_input": "2025-03-20T13:32:06.343073Z",
          "iopub.status.busy": "2025-03-20T13:32:06.342841Z",
          "iopub.status.idle": "2025-03-20T13:32:06.424421Z",
          "shell.execute_reply": "2025-03-20T13:32:06.423686Z"
        },
        "papermill": {
          "duration": 0.096789,
          "end_time": "2025-03-20T13:32:06.425925",
          "exception": false,
          "start_time": "2025-03-20T13:32:06.329136",
          "status": "completed"
        },
        "tags": [],
        "id": "2f215858"
      },
      "outputs": [],
      "source": [
        "df['unit'] = df['unit_x'].fillna(df['unit_y'])\n",
        "df['unit_price'] = df['unit_price_x'].fillna(df['unit_price_y'])\n",
        "df['customer_key'] = df['coustomer_key']\n",
        "df['sub-district'] = df['upazila']\n",
        "df['item_description'] = df['desc']"
      ]
    },
    {
      "cell_type": "code",
      "execution_count": null,
      "id": "fa5b8d4c",
      "metadata": {
        "execution": {
          "iopub.execute_input": "2025-03-20T13:32:06.452407Z",
          "iopub.status.busy": "2025-03-20T13:32:06.452092Z",
          "iopub.status.idle": "2025-03-20T13:32:06.653973Z",
          "shell.execute_reply": "2025-03-20T13:32:06.653316Z"
        },
        "papermill": {
          "duration": 0.216558,
          "end_time": "2025-03-20T13:32:06.655542",
          "exception": false,
          "start_time": "2025-03-20T13:32:06.438984",
          "status": "completed"
        },
        "tags": [],
        "id": "fa5b8d4c"
      },
      "outputs": [],
      "source": [
        "df = df.drop(columns = ['unit_x', 'unit_y', 'unit_price_y', 'unit_price_x',\n",
        "                         'coustomer_key', 'upazila', 'desc', 'name', 'nid',\n",
        "                         'contact_no'])"
      ]
    },
    {
      "cell_type": "code",
      "execution_count": null,
      "id": "7ac87203",
      "metadata": {
        "execution": {
          "iopub.execute_input": "2025-03-20T13:32:06.717798Z",
          "iopub.status.busy": "2025-03-20T13:32:06.717526Z",
          "iopub.status.idle": "2025-03-20T13:32:07.007841Z",
          "shell.execute_reply": "2025-03-20T13:32:07.006851Z"
        },
        "papermill": {
          "duration": 0.305047,
          "end_time": "2025-03-20T13:32:07.009262",
          "exception": false,
          "start_time": "2025-03-20T13:32:06.704215",
          "status": "completed"
        },
        "tags": [],
        "id": "7ac87203",
        "outputId": "e143fdef-7324-47ca-fd78-251e977f73b3"
      },
      "outputs": [
        {
          "data": {
            "text/html": [
              "<div>\n",
              "<style scoped>\n",
              "    .dataframe tbody tr th:only-of-type {\n",
              "        vertical-align: middle;\n",
              "    }\n",
              "\n",
              "    .dataframe tbody tr th {\n",
              "        vertical-align: top;\n",
              "    }\n",
              "\n",
              "    .dataframe thead th {\n",
              "        text-align: right;\n",
              "    }\n",
              "</style>\n",
              "<table border=\"1\" class=\"dataframe\">\n",
              "  <thead>\n",
              "    <tr style=\"text-align: right;\">\n",
              "      <th></th>\n",
              "      <th>quantity</th>\n",
              "      <th>total_price</th>\n",
              "      <th>hour</th>\n",
              "      <th>day</th>\n",
              "      <th>month</th>\n",
              "      <th>year</th>\n",
              "      <th>unit_price</th>\n",
              "    </tr>\n",
              "  </thead>\n",
              "  <tbody>\n",
              "    <tr>\n",
              "      <th>count</th>\n",
              "      <td>1000000.000000</td>\n",
              "      <td>1000000.000000</td>\n",
              "      <td>1000000.000000</td>\n",
              "      <td>1000000.00000</td>\n",
              "      <td>1000000.000000</td>\n",
              "      <td>1000000.000000</td>\n",
              "      <td>1000000.000000</td>\n",
              "    </tr>\n",
              "    <tr>\n",
              "      <th>mean</th>\n",
              "      <td>6.000185</td>\n",
              "      <td>105.401436</td>\n",
              "      <td>11.542591</td>\n",
              "      <td>15.77572</td>\n",
              "      <td>6.518765</td>\n",
              "      <td>2017.050811</td>\n",
              "      <td>17.561602</td>\n",
              "    </tr>\n",
              "    <tr>\n",
              "      <th>std</th>\n",
              "      <td>3.161932</td>\n",
              "      <td>80.829301</td>\n",
              "      <td>6.903028</td>\n",
              "      <td>8.80161</td>\n",
              "      <td>3.447577</td>\n",
              "      <td>2.016437</td>\n",
              "      <td>8.637097</td>\n",
              "    </tr>\n",
              "    <tr>\n",
              "      <th>min</th>\n",
              "      <td>1.000000</td>\n",
              "      <td>6.000000</td>\n",
              "      <td>0.000000</td>\n",
              "      <td>1.00000</td>\n",
              "      <td>1.000000</td>\n",
              "      <td>2014.000000</td>\n",
              "      <td>6.000000</td>\n",
              "    </tr>\n",
              "    <tr>\n",
              "      <th>25%</th>\n",
              "      <td>3.000000</td>\n",
              "      <td>47.250000</td>\n",
              "      <td>6.000000</td>\n",
              "      <td>8.00000</td>\n",
              "      <td>4.000000</td>\n",
              "      <td>2015.000000</td>\n",
              "      <td>13.000000</td>\n",
              "    </tr>\n",
              "    <tr>\n",
              "      <th>50%</th>\n",
              "      <td>6.000000</td>\n",
              "      <td>90.000000</td>\n",
              "      <td>12.000000</td>\n",
              "      <td>16.00000</td>\n",
              "      <td>7.000000</td>\n",
              "      <td>2017.000000</td>\n",
              "      <td>16.000000</td>\n",
              "    </tr>\n",
              "    <tr>\n",
              "      <th>75%</th>\n",
              "      <td>9.000000</td>\n",
              "      <td>144.000000</td>\n",
              "      <td>18.000000</td>\n",
              "      <td>23.00000</td>\n",
              "      <td>10.000000</td>\n",
              "      <td>2019.000000</td>\n",
              "      <td>20.000000</td>\n",
              "    </tr>\n",
              "    <tr>\n",
              "      <th>max</th>\n",
              "      <td>11.000000</td>\n",
              "      <td>605.000000</td>\n",
              "      <td>23.000000</td>\n",
              "      <td>31.00000</td>\n",
              "      <td>12.000000</td>\n",
              "      <td>2021.000000</td>\n",
              "      <td>55.000000</td>\n",
              "    </tr>\n",
              "  </tbody>\n",
              "</table>\n",
              "</div>"
            ],
            "text/plain": [
              "             quantity     total_price            hour            day  \\\n",
              "count  1000000.000000  1000000.000000  1000000.000000  1000000.00000   \n",
              "mean         6.000185      105.401436       11.542591       15.77572   \n",
              "std          3.161932       80.829301        6.903028        8.80161   \n",
              "min          1.000000        6.000000        0.000000        1.00000   \n",
              "25%          3.000000       47.250000        6.000000        8.00000   \n",
              "50%          6.000000       90.000000       12.000000       16.00000   \n",
              "75%          9.000000      144.000000       18.000000       23.00000   \n",
              "max         11.000000      605.000000       23.000000       31.00000   \n",
              "\n",
              "                month            year      unit_price  \n",
              "count  1000000.000000  1000000.000000  1000000.000000  \n",
              "mean         6.518765     2017.050811       17.561602  \n",
              "std          3.447577        2.016437        8.637097  \n",
              "min          1.000000     2014.000000        6.000000  \n",
              "25%          4.000000     2015.000000       13.000000  \n",
              "50%          7.000000     2017.000000       16.000000  \n",
              "75%         10.000000     2019.000000       20.000000  \n",
              "max         12.000000     2021.000000       55.000000  "
            ]
          },
          "execution_count": 14,
          "metadata": {},
          "output_type": "execute_result"
        }
      ],
      "source": [
        "df.describe()"
      ]
    },
    {
      "cell_type": "code",
      "execution_count": null,
      "id": "78193f8f",
      "metadata": {
        "execution": {
          "iopub.execute_input": "2025-03-20T13:32:07.040193Z",
          "iopub.status.busy": "2025-03-20T13:32:07.039930Z",
          "iopub.status.idle": "2025-03-20T13:32:09.947239Z",
          "shell.execute_reply": "2025-03-20T13:32:09.946458Z"
        },
        "papermill": {
          "duration": 2.924081,
          "end_time": "2025-03-20T13:32:09.948684",
          "exception": false,
          "start_time": "2025-03-20T13:32:07.024603",
          "status": "completed"
        },
        "tags": [],
        "id": "78193f8f",
        "outputId": "eac0f4fe-d707-45b5-d485-d0b8be968b88"
      },
      "outputs": [
        {
          "data": {
            "text/html": [
              "<div>\n",
              "<style scoped>\n",
              "    .dataframe tbody tr th:only-of-type {\n",
              "        vertical-align: middle;\n",
              "    }\n",
              "\n",
              "    .dataframe tbody tr th {\n",
              "        vertical-align: top;\n",
              "    }\n",
              "\n",
              "    .dataframe thead th {\n",
              "        text-align: right;\n",
              "    }\n",
              "</style>\n",
              "<table border=\"1\" class=\"dataframe\">\n",
              "  <thead>\n",
              "    <tr style=\"text-align: right;\">\n",
              "      <th></th>\n",
              "      <th>store_key</th>\n",
              "      <th>division</th>\n",
              "      <th>district</th>\n",
              "      <th>payment_key</th>\n",
              "      <th>time_key</th>\n",
              "      <th>item_key</th>\n",
              "      <th>item_name</th>\n",
              "      <th>man_country</th>\n",
              "      <th>supplier</th>\n",
              "      <th>trans_type</th>\n",
              "      <th>bank_name</th>\n",
              "      <th>date</th>\n",
              "      <th>week</th>\n",
              "      <th>quarter</th>\n",
              "      <th>unit</th>\n",
              "      <th>customer_key</th>\n",
              "      <th>sub-district</th>\n",
              "      <th>item_description</th>\n",
              "    </tr>\n",
              "  </thead>\n",
              "  <tbody>\n",
              "    <tr>\n",
              "      <th>count</th>\n",
              "      <td>1000000</td>\n",
              "      <td>1000000</td>\n",
              "      <td>1000000</td>\n",
              "      <td>1000000</td>\n",
              "      <td>1000000</td>\n",
              "      <td>1000000</td>\n",
              "      <td>1000000</td>\n",
              "      <td>1000000</td>\n",
              "      <td>1000000</td>\n",
              "      <td>1000000</td>\n",
              "      <td>974410</td>\n",
              "      <td>1000000</td>\n",
              "      <td>1000000</td>\n",
              "      <td>1000000</td>\n",
              "      <td>996277</td>\n",
              "      <td>1000000</td>\n",
              "      <td>1000000</td>\n",
              "      <td>1000000</td>\n",
              "    </tr>\n",
              "    <tr>\n",
              "      <th>unique</th>\n",
              "      <td>726</td>\n",
              "      <td>7</td>\n",
              "      <td>64</td>\n",
              "      <td>39</td>\n",
              "      <td>99993</td>\n",
              "      <td>264</td>\n",
              "      <td>259</td>\n",
              "      <td>10</td>\n",
              "      <td>10</td>\n",
              "      <td>3</td>\n",
              "      <td>38</td>\n",
              "      <td>98572</td>\n",
              "      <td>4</td>\n",
              "      <td>4</td>\n",
              "      <td>18</td>\n",
              "      <td>9191</td>\n",
              "      <td>540</td>\n",
              "      <td>30</td>\n",
              "    </tr>\n",
              "    <tr>\n",
              "      <th>top</th>\n",
              "      <td>S0039</td>\n",
              "      <td>DHAKA</td>\n",
              "      <td>DHAKA</td>\n",
              "      <td>P002</td>\n",
              "      <td>T087994</td>\n",
              "      <td>I00015</td>\n",
              "      <td>Pepsi - 12 oz cans</td>\n",
              "      <td>Bangladesh</td>\n",
              "      <td>DENIMACH LTD</td>\n",
              "      <td>card</td>\n",
              "      <td>AB Bank Limited</td>\n",
              "      <td>02-05-2015 20:02</td>\n",
              "      <td>4th Week</td>\n",
              "      <td>Q3</td>\n",
              "      <td>ct</td>\n",
              "      <td>C006906</td>\n",
              "      <td>KOTWALI</td>\n",
              "      <td>a. Beverage - Soda</td>\n",
              "    </tr>\n",
              "    <tr>\n",
              "      <th>freq</th>\n",
              "      <td>1497</td>\n",
              "      <td>386888</td>\n",
              "      <td>224034</td>\n",
              "      <td>26046</td>\n",
              "      <td>26</td>\n",
              "      <td>3952</td>\n",
              "      <td>7724</td>\n",
              "      <td>128655</td>\n",
              "      <td>128655</td>\n",
              "      <td>897319</td>\n",
              "      <td>26046</td>\n",
              "      <td>36</td>\n",
              "      <td>313070</td>\n",
              "      <td>253476</td>\n",
              "      <td>355938</td>\n",
              "      <td>156</td>\n",
              "      <td>6909</td>\n",
              "      <td>109741</td>\n",
              "    </tr>\n",
              "  </tbody>\n",
              "</table>\n",
              "</div>"
            ],
            "text/plain": [
              "       store_key division district payment_key time_key item_key  \\\n",
              "count    1000000  1000000  1000000     1000000  1000000  1000000   \n",
              "unique       726        7       64          39    99993      264   \n",
              "top        S0039    DHAKA    DHAKA        P002  T087994   I00015   \n",
              "freq        1497   386888   224034       26046       26     3952   \n",
              "\n",
              "                 item_name man_country      supplier trans_type  \\\n",
              "count              1000000     1000000       1000000    1000000   \n",
              "unique                 259          10            10          3   \n",
              "top     Pepsi - 12 oz cans  Bangladesh  DENIMACH LTD       card   \n",
              "freq                  7724      128655        128655     897319   \n",
              "\n",
              "              bank_name              date      week  quarter    unit  \\\n",
              "count            974410           1000000   1000000  1000000  996277   \n",
              "unique               38             98572         4        4      18   \n",
              "top     AB Bank Limited  02-05-2015 20:02  4th Week       Q3      ct   \n",
              "freq              26046                36    313070   253476  355938   \n",
              "\n",
              "       customer_key sub-district    item_description  \n",
              "count       1000000      1000000             1000000  \n",
              "unique         9191          540                  30  \n",
              "top         C006906      KOTWALI  a. Beverage - Soda  \n",
              "freq            156         6909              109741  "
            ]
          },
          "execution_count": 15,
          "metadata": {},
          "output_type": "execute_result"
        }
      ],
      "source": [
        "df.describe(include=[object])"
      ]
    },
    {
      "cell_type": "code",
      "execution_count": null,
      "id": "f7f0ae83",
      "metadata": {
        "execution": {
          "iopub.execute_input": "2025-03-20T13:32:09.975623Z",
          "iopub.status.busy": "2025-03-20T13:32:09.975386Z",
          "iopub.status.idle": "2025-03-20T13:32:09.979876Z",
          "shell.execute_reply": "2025-03-20T13:32:09.979077Z"
        },
        "papermill": {
          "duration": 0.019027,
          "end_time": "2025-03-20T13:32:09.981093",
          "exception": false,
          "start_time": "2025-03-20T13:32:09.962066",
          "status": "completed"
        },
        "tags": [],
        "id": "f7f0ae83",
        "outputId": "77004aa1-a748-4d6a-eed6-52a4b06fd8da"
      },
      "outputs": [
        {
          "data": {
            "text/plain": [
              "Index(['store_key', 'division', 'district', 'payment_key', 'time_key',\n",
              "       'item_key', 'quantity', 'total_price', 'item_name', 'man_country',\n",
              "       'supplier', 'trans_type', 'bank_name', 'date', 'hour', 'day', 'week',\n",
              "       'month', 'quarter', 'year', 'unit', 'unit_price', 'customer_key',\n",
              "       'sub-district', 'item_description'],\n",
              "      dtype='object')"
            ]
          },
          "execution_count": 16,
          "metadata": {},
          "output_type": "execute_result"
        }
      ],
      "source": [
        "df.columns"
      ]
    },
    {
      "cell_type": "code",
      "execution_count": null,
      "id": "773a8953",
      "metadata": {
        "execution": {
          "iopub.execute_input": "2025-03-20T13:32:10.007434Z",
          "iopub.status.busy": "2025-03-20T13:32:10.007188Z",
          "iopub.status.idle": "2025-03-20T13:32:10.024864Z",
          "shell.execute_reply": "2025-03-20T13:32:10.023946Z"
        },
        "papermill": {
          "duration": 0.032147,
          "end_time": "2025-03-20T13:32:10.026123",
          "exception": false,
          "start_time": "2025-03-20T13:32:09.993976",
          "status": "completed"
        },
        "tags": [],
        "id": "773a8953",
        "outputId": "06c39f28-db4d-46ac-ca6f-0ed71668b6f7"
      },
      "outputs": [
        {
          "data": {
            "text/html": [
              "<div>\n",
              "<style scoped>\n",
              "    .dataframe tbody tr th:only-of-type {\n",
              "        vertical-align: middle;\n",
              "    }\n",
              "\n",
              "    .dataframe tbody tr th {\n",
              "        vertical-align: top;\n",
              "    }\n",
              "\n",
              "    .dataframe thead th {\n",
              "        text-align: right;\n",
              "    }\n",
              "</style>\n",
              "<table border=\"1\" class=\"dataframe\">\n",
              "  <thead>\n",
              "    <tr style=\"text-align: right;\">\n",
              "      <th></th>\n",
              "      <th>store_key</th>\n",
              "      <th>division</th>\n",
              "      <th>district</th>\n",
              "      <th>payment_key</th>\n",
              "      <th>time_key</th>\n",
              "      <th>item_key</th>\n",
              "      <th>quantity</th>\n",
              "      <th>total_price</th>\n",
              "      <th>item_name</th>\n",
              "      <th>man_country</th>\n",
              "      <th>...</th>\n",
              "      <th>day</th>\n",
              "      <th>week</th>\n",
              "      <th>month</th>\n",
              "      <th>quarter</th>\n",
              "      <th>year</th>\n",
              "      <th>unit</th>\n",
              "      <th>unit_price</th>\n",
              "      <th>customer_key</th>\n",
              "      <th>sub-district</th>\n",
              "      <th>item_description</th>\n",
              "    </tr>\n",
              "  </thead>\n",
              "  <tbody>\n",
              "    <tr>\n",
              "      <th>0</th>\n",
              "      <td>S0001</td>\n",
              "      <td>SYLHET</td>\n",
              "      <td>HABIGANJ</td>\n",
              "      <td>P011</td>\n",
              "      <td>T070430</td>\n",
              "      <td>I00093</td>\n",
              "      <td>11</td>\n",
              "      <td>143.0</td>\n",
              "      <td>Ozarka Spring Water 20 oz</td>\n",
              "      <td>Bangladesh</td>\n",
              "      <td>...</td>\n",
              "      <td>19</td>\n",
              "      <td>3rd Week</td>\n",
              "      <td>12</td>\n",
              "      <td>Q4</td>\n",
              "      <td>2017</td>\n",
              "      <td>bottles</td>\n",
              "      <td>13.0</td>\n",
              "      <td>C000470</td>\n",
              "      <td>AJMIRIGANJ</td>\n",
              "      <td>Beverage Water</td>\n",
              "    </tr>\n",
              "    <tr>\n",
              "      <th>1</th>\n",
              "      <td>S0001</td>\n",
              "      <td>SYLHET</td>\n",
              "      <td>HABIGANJ</td>\n",
              "      <td>P038</td>\n",
              "      <td>T030846</td>\n",
              "      <td>I00099</td>\n",
              "      <td>1</td>\n",
              "      <td>6.0</td>\n",
              "      <td>Coffee-Mate Original Flavor Cold</td>\n",
              "      <td>Bangladesh</td>\n",
              "      <td>...</td>\n",
              "      <td>27</td>\n",
              "      <td>4th Week</td>\n",
              "      <td>10</td>\n",
              "      <td>Q4</td>\n",
              "      <td>2020</td>\n",
              "      <td>oz</td>\n",
              "      <td>6.0</td>\n",
              "      <td>C006880</td>\n",
              "      <td>AJMIRIGANJ</td>\n",
              "      <td>Coffee Cream</td>\n",
              "    </tr>\n",
              "    <tr>\n",
              "      <th>2</th>\n",
              "      <td>S0001</td>\n",
              "      <td>SYLHET</td>\n",
              "      <td>HABIGANJ</td>\n",
              "      <td>P022</td>\n",
              "      <td>T047135</td>\n",
              "      <td>I00140</td>\n",
              "      <td>1</td>\n",
              "      <td>29.0</td>\n",
              "      <td>Foam Coffee Cups - 20 ounce</td>\n",
              "      <td>Netherlands</td>\n",
              "      <td>...</td>\n",
              "      <td>10</td>\n",
              "      <td>2nd Week</td>\n",
              "      <td>10</td>\n",
              "      <td>Q4</td>\n",
              "      <td>2019</td>\n",
              "      <td>ct</td>\n",
              "      <td>29.0</td>\n",
              "      <td>C000199</td>\n",
              "      <td>AJMIRIGANJ</td>\n",
              "      <td>Dishware - Cups Hot</td>\n",
              "    </tr>\n",
              "    <tr>\n",
              "      <th>3</th>\n",
              "      <td>S0001</td>\n",
              "      <td>SYLHET</td>\n",
              "      <td>HABIGANJ</td>\n",
              "      <td>P013</td>\n",
              "      <td>T019043</td>\n",
              "      <td>I00216</td>\n",
              "      <td>11</td>\n",
              "      <td>181.5</td>\n",
              "      <td>Planters Nut-trition 1.5 oz</td>\n",
              "      <td>Bangladesh</td>\n",
              "      <td>...</td>\n",
              "      <td>27</td>\n",
              "      <td>4th Week</td>\n",
              "      <td>11</td>\n",
              "      <td>Q4</td>\n",
              "      <td>2020</td>\n",
              "      <td>ct</td>\n",
              "      <td>16.5</td>\n",
              "      <td>C004969</td>\n",
              "      <td>AJMIRIGANJ</td>\n",
              "      <td>Food - Nuts</td>\n",
              "    </tr>\n",
              "    <tr>\n",
              "      <th>4</th>\n",
              "      <td>S0001</td>\n",
              "      <td>SYLHET</td>\n",
              "      <td>HABIGANJ</td>\n",
              "      <td>P012</td>\n",
              "      <td>T018268</td>\n",
              "      <td>I00194</td>\n",
              "      <td>3</td>\n",
              "      <td>69.0</td>\n",
              "      <td>Detour Lower Sugar Protein Bar</td>\n",
              "      <td>Netherlands</td>\n",
              "      <td>...</td>\n",
              "      <td>6</td>\n",
              "      <td>1st Week</td>\n",
              "      <td>1</td>\n",
              "      <td>Q1</td>\n",
              "      <td>2016</td>\n",
              "      <td>bars</td>\n",
              "      <td>23.0</td>\n",
              "      <td>C002554</td>\n",
              "      <td>AJMIRIGANJ</td>\n",
              "      <td>Food - Healthy</td>\n",
              "    </tr>\n",
              "  </tbody>\n",
              "</table>\n",
              "<p>5 rows × 25 columns</p>\n",
              "</div>"
            ],
            "text/plain": [
              "  store_key division  district payment_key time_key item_key  quantity  \\\n",
              "0     S0001   SYLHET  HABIGANJ        P011  T070430   I00093        11   \n",
              "1     S0001   SYLHET  HABIGANJ        P038  T030846   I00099         1   \n",
              "2     S0001   SYLHET  HABIGANJ        P022  T047135   I00140         1   \n",
              "3     S0001   SYLHET  HABIGANJ        P013  T019043   I00216        11   \n",
              "4     S0001   SYLHET  HABIGANJ        P012  T018268   I00194         3   \n",
              "\n",
              "   total_price                         item_name  man_country  ... day  \\\n",
              "0        143.0         Ozarka Spring Water 20 oz   Bangladesh  ...  19   \n",
              "1          6.0  Coffee-Mate Original Flavor Cold   Bangladesh  ...  27   \n",
              "2         29.0       Foam Coffee Cups - 20 ounce  Netherlands  ...  10   \n",
              "3        181.5      Planters Nut-trition 1.5 oz    Bangladesh  ...  27   \n",
              "4         69.0    Detour Lower Sugar Protein Bar  Netherlands  ...   6   \n",
              "\n",
              "       week month quarter  year     unit unit_price  customer_key  \\\n",
              "0  3rd Week    12      Q4  2017  bottles       13.0       C000470   \n",
              "1  4th Week    10      Q4  2020       oz        6.0       C006880   \n",
              "2  2nd Week    10      Q4  2019       ct       29.0       C000199   \n",
              "3  4th Week    11      Q4  2020       ct       16.5       C004969   \n",
              "4  1st Week     1      Q1  2016     bars       23.0       C002554   \n",
              "\n",
              "  sub-district     item_description  \n",
              "0   AJMIRIGANJ       Beverage Water  \n",
              "1   AJMIRIGANJ         Coffee Cream  \n",
              "2   AJMIRIGANJ  Dishware - Cups Hot  \n",
              "3   AJMIRIGANJ          Food - Nuts  \n",
              "4   AJMIRIGANJ       Food - Healthy  \n",
              "\n",
              "[5 rows x 25 columns]"
            ]
          },
          "execution_count": 17,
          "metadata": {},
          "output_type": "execute_result"
        }
      ],
      "source": [
        "df.head()"
      ]
    },
    {
      "cell_type": "code",
      "execution_count": null,
      "id": "6949e612",
      "metadata": {
        "execution": {
          "iopub.execute_input": "2025-03-20T13:32:10.053675Z",
          "iopub.status.busy": "2025-03-20T13:32:10.053443Z",
          "iopub.status.idle": "2025-03-20T13:32:10.069954Z",
          "shell.execute_reply": "2025-03-20T13:32:10.069282Z"
        },
        "papermill": {
          "duration": 0.031718,
          "end_time": "2025-03-20T13:32:10.071372",
          "exception": false,
          "start_time": "2025-03-20T13:32:10.039654",
          "status": "completed"
        },
        "tags": [],
        "id": "6949e612",
        "outputId": "1ab16cd0-e589-4b03-b1f8-3500a4ca2f77"
      },
      "outputs": [
        {
          "data": {
            "text/html": [
              "<div>\n",
              "<style scoped>\n",
              "    .dataframe tbody tr th:only-of-type {\n",
              "        vertical-align: middle;\n",
              "    }\n",
              "\n",
              "    .dataframe tbody tr th {\n",
              "        vertical-align: top;\n",
              "    }\n",
              "\n",
              "    .dataframe thead th {\n",
              "        text-align: right;\n",
              "    }\n",
              "</style>\n",
              "<table border=\"1\" class=\"dataframe\">\n",
              "  <thead>\n",
              "    <tr style=\"text-align: right;\">\n",
              "      <th></th>\n",
              "      <th>store_key</th>\n",
              "      <th>division</th>\n",
              "      <th>district</th>\n",
              "      <th>payment_key</th>\n",
              "      <th>time_key</th>\n",
              "      <th>item_key</th>\n",
              "      <th>quantity</th>\n",
              "      <th>total_price</th>\n",
              "      <th>item_name</th>\n",
              "      <th>man_country</th>\n",
              "      <th>...</th>\n",
              "      <th>day</th>\n",
              "      <th>week</th>\n",
              "      <th>month</th>\n",
              "      <th>quarter</th>\n",
              "      <th>year</th>\n",
              "      <th>unit</th>\n",
              "      <th>unit_price</th>\n",
              "      <th>customer_key</th>\n",
              "      <th>sub-district</th>\n",
              "      <th>item_description</th>\n",
              "    </tr>\n",
              "  </thead>\n",
              "  <tbody>\n",
              "    <tr>\n",
              "      <th>999995</th>\n",
              "      <td>S00726</td>\n",
              "      <td>BARISAL</td>\n",
              "      <td>BARISAL</td>\n",
              "      <td>P005</td>\n",
              "      <td>T027677</td>\n",
              "      <td>I00126</td>\n",
              "      <td>3</td>\n",
              "      <td>75.0</td>\n",
              "      <td>Splenda Sweetener</td>\n",
              "      <td>poland</td>\n",
              "      <td>...</td>\n",
              "      <td>9</td>\n",
              "      <td>2nd Week</td>\n",
              "      <td>6</td>\n",
              "      <td>Q2</td>\n",
              "      <td>2019</td>\n",
              "      <td>ct</td>\n",
              "      <td>25.0</td>\n",
              "      <td>C002309</td>\n",
              "      <td>WAZIRPUR</td>\n",
              "      <td>Coffee Sweetener</td>\n",
              "    </tr>\n",
              "    <tr>\n",
              "      <th>999996</th>\n",
              "      <td>S00726</td>\n",
              "      <td>BARISAL</td>\n",
              "      <td>BARISAL</td>\n",
              "      <td>P024</td>\n",
              "      <td>T03970</td>\n",
              "      <td>I00088</td>\n",
              "      <td>1</td>\n",
              "      <td>17.0</td>\n",
              "      <td>Welch's 100% Juice Variety10 oz</td>\n",
              "      <td>Cambodia</td>\n",
              "      <td>...</td>\n",
              "      <td>3</td>\n",
              "      <td>1st Week</td>\n",
              "      <td>11</td>\n",
              "      <td>Q4</td>\n",
              "      <td>2016</td>\n",
              "      <td>bottles</td>\n",
              "      <td>17.0</td>\n",
              "      <td>C007550</td>\n",
              "      <td>WAZIRPUR</td>\n",
              "      <td>Beverage - Juice</td>\n",
              "    </tr>\n",
              "    <tr>\n",
              "      <th>999997</th>\n",
              "      <td>S00726</td>\n",
              "      <td>BARISAL</td>\n",
              "      <td>BARISAL</td>\n",
              "      <td>P027</td>\n",
              "      <td>T062381</td>\n",
              "      <td>I00156</td>\n",
              "      <td>9</td>\n",
              "      <td>153.0</td>\n",
              "      <td>Flamin Hot Chip Mix 1oz</td>\n",
              "      <td>Bangladesh</td>\n",
              "      <td>...</td>\n",
              "      <td>3</td>\n",
              "      <td>1st Week</td>\n",
              "      <td>9</td>\n",
              "      <td>Q3</td>\n",
              "      <td>2020</td>\n",
              "      <td>bags</td>\n",
              "      <td>17.0</td>\n",
              "      <td>C007182</td>\n",
              "      <td>WAZIRPUR</td>\n",
              "      <td>Food - Chips</td>\n",
              "    </tr>\n",
              "    <tr>\n",
              "      <th>999998</th>\n",
              "      <td>S00726</td>\n",
              "      <td>BARISAL</td>\n",
              "      <td>BARISAL</td>\n",
              "      <td>P012</td>\n",
              "      <td>T071264</td>\n",
              "      <td>I00052</td>\n",
              "      <td>7</td>\n",
              "      <td>280.0</td>\n",
              "      <td>Monster Lo-Carb 16 oz</td>\n",
              "      <td>poland</td>\n",
              "      <td>...</td>\n",
              "      <td>23</td>\n",
              "      <td>4th Week</td>\n",
              "      <td>12</td>\n",
              "      <td>Q4</td>\n",
              "      <td>2019</td>\n",
              "      <td>cans</td>\n",
              "      <td>40.0</td>\n",
              "      <td>C000282</td>\n",
              "      <td>WAZIRPUR</td>\n",
              "      <td>Beverage - Energy/Protein</td>\n",
              "    </tr>\n",
              "    <tr>\n",
              "      <th>999999</th>\n",
              "      <td>S00726</td>\n",
              "      <td>BARISAL</td>\n",
              "      <td>BARISAL</td>\n",
              "      <td>P039</td>\n",
              "      <td>T021376</td>\n",
              "      <td>I00025</td>\n",
              "      <td>2</td>\n",
              "      <td>23.0</td>\n",
              "      <td>Seven Up - 12 oz cans</td>\n",
              "      <td>China</td>\n",
              "      <td>...</td>\n",
              "      <td>12</td>\n",
              "      <td>2nd Week</td>\n",
              "      <td>12</td>\n",
              "      <td>Q4</td>\n",
              "      <td>2018</td>\n",
              "      <td>cans</td>\n",
              "      <td>11.5</td>\n",
              "      <td>C007931</td>\n",
              "      <td>WAZIRPUR</td>\n",
              "      <td>a. Beverage - Soda</td>\n",
              "    </tr>\n",
              "  </tbody>\n",
              "</table>\n",
              "<p>5 rows × 25 columns</p>\n",
              "</div>"
            ],
            "text/plain": [
              "       store_key division district payment_key time_key item_key  quantity  \\\n",
              "999995    S00726  BARISAL  BARISAL        P005  T027677   I00126         3   \n",
              "999996    S00726  BARISAL  BARISAL        P024   T03970   I00088         1   \n",
              "999997    S00726  BARISAL  BARISAL        P027  T062381   I00156         9   \n",
              "999998    S00726  BARISAL  BARISAL        P012  T071264   I00052         7   \n",
              "999999    S00726  BARISAL  BARISAL        P039  T021376   I00025         2   \n",
              "\n",
              "        total_price                        item_name man_country  ... day  \\\n",
              "999995         75.0                Splenda Sweetener      poland  ...   9   \n",
              "999996         17.0  Welch's 100% Juice Variety10 oz    Cambodia  ...   3   \n",
              "999997        153.0          Flamin Hot Chip Mix 1oz  Bangladesh  ...   3   \n",
              "999998        280.0            Monster Lo-Carb 16 oz      poland  ...  23   \n",
              "999999         23.0            Seven Up - 12 oz cans       China  ...  12   \n",
              "\n",
              "            week month quarter  year     unit unit_price  customer_key  \\\n",
              "999995  2nd Week     6      Q2  2019       ct       25.0       C002309   \n",
              "999996  1st Week    11      Q4  2016  bottles       17.0       C007550   \n",
              "999997  1st Week     9      Q3  2020     bags       17.0       C007182   \n",
              "999998  4th Week    12      Q4  2019     cans       40.0       C000282   \n",
              "999999  2nd Week    12      Q4  2018     cans       11.5       C007931   \n",
              "\n",
              "       sub-district           item_description  \n",
              "999995     WAZIRPUR           Coffee Sweetener  \n",
              "999996     WAZIRPUR           Beverage - Juice  \n",
              "999997     WAZIRPUR               Food - Chips  \n",
              "999998     WAZIRPUR  Beverage - Energy/Protein  \n",
              "999999     WAZIRPUR         a. Beverage - Soda  \n",
              "\n",
              "[5 rows x 25 columns]"
            ]
          },
          "execution_count": 18,
          "metadata": {},
          "output_type": "execute_result"
        }
      ],
      "source": [
        "df.tail()"
      ]
    },
    {
      "cell_type": "code",
      "execution_count": null,
      "id": "85c8004e",
      "metadata": {
        "execution": {
          "iopub.execute_input": "2025-03-20T13:32:10.099046Z",
          "iopub.status.busy": "2025-03-20T13:32:10.098818Z",
          "iopub.status.idle": "2025-03-20T13:32:10.357470Z",
          "shell.execute_reply": "2025-03-20T13:32:10.356558Z"
        },
        "papermill": {
          "duration": 0.274112,
          "end_time": "2025-03-20T13:32:10.359197",
          "exception": false,
          "start_time": "2025-03-20T13:32:10.085085",
          "status": "completed"
        },
        "tags": [],
        "id": "85c8004e",
        "outputId": "28ca1aae-bfb3-4e74-f244-9396b58923ae"
      },
      "outputs": [
        {
          "data": {
            "text/html": [
              "<div>\n",
              "<style scoped>\n",
              "    .dataframe tbody tr th:only-of-type {\n",
              "        vertical-align: middle;\n",
              "    }\n",
              "\n",
              "    .dataframe tbody tr th {\n",
              "        vertical-align: top;\n",
              "    }\n",
              "\n",
              "    .dataframe thead th {\n",
              "        text-align: right;\n",
              "    }\n",
              "</style>\n",
              "<table border=\"1\" class=\"dataframe\">\n",
              "  <thead>\n",
              "    <tr style=\"text-align: right;\">\n",
              "      <th></th>\n",
              "      <th>quantity</th>\n",
              "      <th>total_price</th>\n",
              "      <th>hour</th>\n",
              "      <th>day</th>\n",
              "      <th>month</th>\n",
              "      <th>year</th>\n",
              "      <th>unit_price</th>\n",
              "    </tr>\n",
              "  </thead>\n",
              "  <tbody>\n",
              "    <tr>\n",
              "      <th>count</th>\n",
              "      <td>1000000.000000</td>\n",
              "      <td>1000000.000000</td>\n",
              "      <td>1000000.000000</td>\n",
              "      <td>1000000.00000</td>\n",
              "      <td>1000000.000000</td>\n",
              "      <td>1000000.000000</td>\n",
              "      <td>1000000.000000</td>\n",
              "    </tr>\n",
              "    <tr>\n",
              "      <th>mean</th>\n",
              "      <td>6.000185</td>\n",
              "      <td>105.401436</td>\n",
              "      <td>11.542591</td>\n",
              "      <td>15.77572</td>\n",
              "      <td>6.518765</td>\n",
              "      <td>2017.050811</td>\n",
              "      <td>17.561602</td>\n",
              "    </tr>\n",
              "    <tr>\n",
              "      <th>std</th>\n",
              "      <td>3.161932</td>\n",
              "      <td>80.829301</td>\n",
              "      <td>6.903028</td>\n",
              "      <td>8.80161</td>\n",
              "      <td>3.447577</td>\n",
              "      <td>2.016437</td>\n",
              "      <td>8.637097</td>\n",
              "    </tr>\n",
              "    <tr>\n",
              "      <th>min</th>\n",
              "      <td>1.000000</td>\n",
              "      <td>6.000000</td>\n",
              "      <td>0.000000</td>\n",
              "      <td>1.00000</td>\n",
              "      <td>1.000000</td>\n",
              "      <td>2014.000000</td>\n",
              "      <td>6.000000</td>\n",
              "    </tr>\n",
              "    <tr>\n",
              "      <th>25%</th>\n",
              "      <td>3.000000</td>\n",
              "      <td>47.250000</td>\n",
              "      <td>6.000000</td>\n",
              "      <td>8.00000</td>\n",
              "      <td>4.000000</td>\n",
              "      <td>2015.000000</td>\n",
              "      <td>13.000000</td>\n",
              "    </tr>\n",
              "    <tr>\n",
              "      <th>50%</th>\n",
              "      <td>6.000000</td>\n",
              "      <td>90.000000</td>\n",
              "      <td>12.000000</td>\n",
              "      <td>16.00000</td>\n",
              "      <td>7.000000</td>\n",
              "      <td>2017.000000</td>\n",
              "      <td>16.000000</td>\n",
              "    </tr>\n",
              "    <tr>\n",
              "      <th>75%</th>\n",
              "      <td>9.000000</td>\n",
              "      <td>144.000000</td>\n",
              "      <td>18.000000</td>\n",
              "      <td>23.00000</td>\n",
              "      <td>10.000000</td>\n",
              "      <td>2019.000000</td>\n",
              "      <td>20.000000</td>\n",
              "    </tr>\n",
              "    <tr>\n",
              "      <th>max</th>\n",
              "      <td>11.000000</td>\n",
              "      <td>605.000000</td>\n",
              "      <td>23.000000</td>\n",
              "      <td>31.00000</td>\n",
              "      <td>12.000000</td>\n",
              "      <td>2021.000000</td>\n",
              "      <td>55.000000</td>\n",
              "    </tr>\n",
              "  </tbody>\n",
              "</table>\n",
              "</div>"
            ],
            "text/plain": [
              "             quantity     total_price            hour            day  \\\n",
              "count  1000000.000000  1000000.000000  1000000.000000  1000000.00000   \n",
              "mean         6.000185      105.401436       11.542591       15.77572   \n",
              "std          3.161932       80.829301        6.903028        8.80161   \n",
              "min          1.000000        6.000000        0.000000        1.00000   \n",
              "25%          3.000000       47.250000        6.000000        8.00000   \n",
              "50%          6.000000       90.000000       12.000000       16.00000   \n",
              "75%          9.000000      144.000000       18.000000       23.00000   \n",
              "max         11.000000      605.000000       23.000000       31.00000   \n",
              "\n",
              "                month            year      unit_price  \n",
              "count  1000000.000000  1000000.000000  1000000.000000  \n",
              "mean         6.518765     2017.050811       17.561602  \n",
              "std          3.447577        2.016437        8.637097  \n",
              "min          1.000000     2014.000000        6.000000  \n",
              "25%          4.000000     2015.000000       13.000000  \n",
              "50%          7.000000     2017.000000       16.000000  \n",
              "75%         10.000000     2019.000000       20.000000  \n",
              "max         12.000000     2021.000000       55.000000  "
            ]
          },
          "execution_count": 19,
          "metadata": {},
          "output_type": "execute_result"
        }
      ],
      "source": [
        "df.describe()"
      ]
    },
    {
      "cell_type": "code",
      "execution_count": null,
      "id": "6f87ee2d",
      "metadata": {
        "execution": {
          "iopub.execute_input": "2025-03-20T13:32:10.387645Z",
          "iopub.status.busy": "2025-03-20T13:32:10.387398Z",
          "iopub.status.idle": "2025-03-20T13:32:11.237683Z",
          "shell.execute_reply": "2025-03-20T13:32:11.236771Z"
        },
        "papermill": {
          "duration": 0.865913,
          "end_time": "2025-03-20T13:32:11.239351",
          "exception": false,
          "start_time": "2025-03-20T13:32:10.373438",
          "status": "completed"
        },
        "tags": [],
        "id": "6f87ee2d",
        "outputId": "b2a4a754-1970-464d-9808-79316ff3dea6"
      },
      "outputs": [
        {
          "name": "stdout",
          "output_type": "stream",
          "text": [
            "<class 'pandas.core.frame.DataFrame'>\n",
            "RangeIndex: 1000000 entries, 0 to 999999\n",
            "Data columns (total 25 columns):\n",
            " #   Column            Non-Null Count    Dtype  \n",
            "---  ------            --------------    -----  \n",
            " 0   store_key         1000000 non-null  object \n",
            " 1   division          1000000 non-null  object \n",
            " 2   district          1000000 non-null  object \n",
            " 3   payment_key       1000000 non-null  object \n",
            " 4   time_key          1000000 non-null  object \n",
            " 5   item_key          1000000 non-null  object \n",
            " 6   quantity          1000000 non-null  int64  \n",
            " 7   total_price       1000000 non-null  float64\n",
            " 8   item_name         1000000 non-null  object \n",
            " 9   man_country       1000000 non-null  object \n",
            " 10  supplier          1000000 non-null  object \n",
            " 11  trans_type        1000000 non-null  object \n",
            " 12  bank_name         974410 non-null   object \n",
            " 13  date              1000000 non-null  object \n",
            " 14  hour              1000000 non-null  int64  \n",
            " 15  day               1000000 non-null  int64  \n",
            " 16  week              1000000 non-null  object \n",
            " 17  month             1000000 non-null  int64  \n",
            " 18  quarter           1000000 non-null  object \n",
            " 19  year              1000000 non-null  int64  \n",
            " 20  unit              996277 non-null   object \n",
            " 21  unit_price        1000000 non-null  float64\n",
            " 22  customer_key      1000000 non-null  object \n",
            " 23  sub-district      1000000 non-null  object \n",
            " 24  item_description  1000000 non-null  object \n",
            "dtypes: float64(2), int64(5), object(18)\n",
            "memory usage: 190.7+ MB\n"
          ]
        }
      ],
      "source": [
        "df.info()"
      ]
    },
    {
      "cell_type": "markdown",
      "id": "68bdaa45",
      "metadata": {
        "papermill": {
          "duration": 0.013279,
          "end_time": "2025-03-20T13:32:11.267443",
          "exception": false,
          "start_time": "2025-03-20T13:32:11.254164",
          "status": "completed"
        },
        "tags": [],
        "id": "68bdaa45"
      },
      "source": [
        "<div style=\"background-color: #CFD8DC; padding: 25px; border-radius: 10px;\">\n",
        "  <h1 style=\"color: #333;\"><strong>Checking if there are missing values in the dataset</strong></h1>\n",
        "</div>"
      ]
    },
    {
      "cell_type": "code",
      "execution_count": null,
      "id": "6e6687ca",
      "metadata": {
        "execution": {
          "iopub.execute_input": "2025-03-20T13:32:11.294954Z",
          "iopub.status.busy": "2025-03-20T13:32:11.294710Z",
          "iopub.status.idle": "2025-03-20T13:32:12.159091Z",
          "shell.execute_reply": "2025-03-20T13:32:12.158238Z"
        },
        "papermill": {
          "duration": 0.879611,
          "end_time": "2025-03-20T13:32:12.160366",
          "exception": false,
          "start_time": "2025-03-20T13:32:11.280755",
          "status": "completed"
        },
        "tags": [],
        "id": "6e6687ca",
        "outputId": "d7b690fd-120b-4114-dff0-47c5ed0f25a6"
      },
      "outputs": [
        {
          "data": {
            "text/plain": [
              "store_key               0\n",
              "division                0\n",
              "district                0\n",
              "payment_key             0\n",
              "time_key                0\n",
              "item_key                0\n",
              "quantity                0\n",
              "total_price             0\n",
              "item_name               0\n",
              "man_country             0\n",
              "supplier                0\n",
              "trans_type              0\n",
              "bank_name           25590\n",
              "date                    0\n",
              "hour                    0\n",
              "day                     0\n",
              "week                    0\n",
              "month                   0\n",
              "quarter                 0\n",
              "year                    0\n",
              "unit                 3723\n",
              "unit_price              0\n",
              "customer_key            0\n",
              "sub-district            0\n",
              "item_description        0\n",
              "dtype: int64"
            ]
          },
          "execution_count": 21,
          "metadata": {},
          "output_type": "execute_result"
        }
      ],
      "source": [
        "df.isnull().sum()"
      ]
    },
    {
      "cell_type": "code",
      "execution_count": null,
      "id": "f834eb8d",
      "metadata": {
        "execution": {
          "iopub.execute_input": "2025-03-20T13:32:12.190632Z",
          "iopub.status.busy": "2025-03-20T13:32:12.190384Z",
          "iopub.status.idle": "2025-03-20T13:32:12.238481Z",
          "shell.execute_reply": "2025-03-20T13:32:12.237800Z"
        },
        "papermill": {
          "duration": 0.065059,
          "end_time": "2025-03-20T13:32:12.239809",
          "exception": false,
          "start_time": "2025-03-20T13:32:12.174750",
          "status": "completed"
        },
        "tags": [],
        "id": "f834eb8d",
        "outputId": "f818cd1f-3679-47a0-dbc1-076de44e8f79"
      },
      "outputs": [
        {
          "data": {
            "text/plain": [
              "bank_name\n",
              "AB Bank Limited                                       26046\n",
              "South Bangla Agriculture and Commerce Bank Limited    25964\n",
              "NRB Bank Limited                                      25887\n",
              "Rocket                                                25865\n",
              "Standard Bank Limited                                 25853\n",
              "National Credit & Commerce Bank Limited               25849\n",
              "Dhaka Bank Limited                                    25839\n",
              "Bangladesh Commerce Bank Limited                      25787\n",
              "City Bank Limited                                     25774\n",
              "Bengal Commercial Bank Ltd                            25762\n",
              "Modhumoti Bank Limited                                25749\n",
              "Bkash                                                 25678\n",
              "Meghna Bank Limited                                   25670\n",
              "Trust Bank Limited                                    25661\n",
              "Premier Bank Limited                                  25652\n",
              "Shimanto Bank Ltd                                     25649\n",
              "IFIC Bank Limited                                     25616\n",
              "Dutch-Bangla Bank Limited                             25603\n",
              "Bank Asia Limited                                     25592\n",
              "Eastern Bank Limited                                  25588\n",
              "United Commercial Bank Ltd                            25585\n",
              "Citizens Bank Limited                                 25580\n",
              "Padma Bank Limited                                    25579\n",
              "Prime Bank Limited                                    25574\n",
              "NRB Global Bank Ltd                                   25563\n",
              "Jamuna Bank Limited                                   25562\n",
              "One Bank Limited                                      25550\n",
              "Nagad                                                 25548\n",
              "BRAC Bank Limited                                     25545\n",
              "Mercantile Bank Limited                               25528\n",
              "Pubali Bank Limited                                   25525\n",
              "Uttara Bank Limited                                   25525\n",
              "Southeast Bank Limited                                25519\n",
              "Midland Bank Limited                                  25475\n",
              "NRB Commercial Bank Ltd                               25468\n",
              "National Bank Limited                                 25463\n",
              "Community Bank Bangladesh Limited                     25377\n",
              "Mutual Trust Bank Limited                             25360\n",
              "Name: count, dtype: int64"
            ]
          },
          "execution_count": 22,
          "metadata": {},
          "output_type": "execute_result"
        }
      ],
      "source": [
        "df['bank_name'].value_counts()"
      ]
    },
    {
      "cell_type": "code",
      "execution_count": null,
      "id": "5f1b6642",
      "metadata": {
        "execution": {
          "iopub.execute_input": "2025-03-20T13:32:12.269556Z",
          "iopub.status.busy": "2025-03-20T13:32:12.269291Z",
          "iopub.status.idle": "2025-03-20T13:32:12.316095Z",
          "shell.execute_reply": "2025-03-20T13:32:12.315222Z"
        },
        "papermill": {
          "duration": 0.062562,
          "end_time": "2025-03-20T13:32:12.317549",
          "exception": false,
          "start_time": "2025-03-20T13:32:12.254987",
          "status": "completed"
        },
        "tags": [],
        "id": "5f1b6642",
        "outputId": "cf5b1028-1d9a-484e-a851-475a224f8792"
      },
      "outputs": [
        {
          "data": {
            "text/plain": [
              "trans_type\n",
              "cash    25590\n",
              "Name: count, dtype: int64"
            ]
          },
          "execution_count": 23,
          "metadata": {},
          "output_type": "execute_result"
        }
      ],
      "source": [
        "trans_type_with_null_bank = df.loc[df['bank_name'].isna(), 'trans_type']\n",
        "trans_type_with_null_bank.value_counts()"
      ]
    },
    {
      "cell_type": "markdown",
      "id": "f2f6213f",
      "metadata": {
        "papermill": {
          "duration": 0.013954,
          "end_time": "2025-03-20T13:32:12.346513",
          "exception": false,
          "start_time": "2025-03-20T13:32:12.332559",
          "status": "completed"
        },
        "tags": [],
        "id": "f2f6213f"
      },
      "source": [
        "<div style=\"background-color: #CFD8DC; padding: 25px; border-radius: 10px;\">\n",
        "  <h1 style=\"color: #333;\"><strong>Fill missing values</strong></h1>\n",
        "</div>"
      ]
    },
    {
      "cell_type": "code",
      "execution_count": null,
      "id": "d7c57ca0",
      "metadata": {
        "execution": {
          "iopub.execute_input": "2025-03-20T13:32:12.374864Z",
          "iopub.status.busy": "2025-03-20T13:32:12.374622Z",
          "iopub.status.idle": "2025-03-20T13:32:12.433479Z",
          "shell.execute_reply": "2025-03-20T13:32:12.432495Z"
        },
        "papermill": {
          "duration": 0.074722,
          "end_time": "2025-03-20T13:32:12.434878",
          "exception": false,
          "start_time": "2025-03-20T13:32:12.360156",
          "status": "completed"
        },
        "tags": [],
        "id": "d7c57ca0"
      },
      "outputs": [],
      "source": [
        "df['bank_name'] = df['bank_name'].fillna('Not Applicable')"
      ]
    },
    {
      "cell_type": "code",
      "execution_count": null,
      "id": "738a2d6a",
      "metadata": {
        "execution": {
          "iopub.execute_input": "2025-03-20T13:32:12.464487Z",
          "iopub.status.busy": "2025-03-20T13:32:12.464182Z",
          "iopub.status.idle": "2025-03-20T13:32:12.528044Z",
          "shell.execute_reply": "2025-03-20T13:32:12.527068Z"
        },
        "papermill": {
          "duration": 0.080319,
          "end_time": "2025-03-20T13:32:12.529534",
          "exception": false,
          "start_time": "2025-03-20T13:32:12.449215",
          "status": "completed"
        },
        "tags": [],
        "id": "738a2d6a",
        "outputId": "bebe8d53-e8ee-4f89-a4a3-60203e7ae976"
      },
      "outputs": [
        {
          "data": {
            "text/html": [
              "<div>\n",
              "<style scoped>\n",
              "    .dataframe tbody tr th:only-of-type {\n",
              "        vertical-align: middle;\n",
              "    }\n",
              "\n",
              "    .dataframe tbody tr th {\n",
              "        vertical-align: top;\n",
              "    }\n",
              "\n",
              "    .dataframe thead th {\n",
              "        text-align: right;\n",
              "    }\n",
              "</style>\n",
              "<table border=\"1\" class=\"dataframe\">\n",
              "  <thead>\n",
              "    <tr style=\"text-align: right;\">\n",
              "      <th></th>\n",
              "      <th>item_name</th>\n",
              "      <th>item_description</th>\n",
              "      <th>count</th>\n",
              "    </tr>\n",
              "  </thead>\n",
              "  <tbody>\n",
              "    <tr>\n",
              "      <th>0</th>\n",
              "      <td>Frito Bold Flavors Variety</td>\n",
              "      <td>Food - Chips</td>\n",
              "      <td>3723</td>\n",
              "    </tr>\n",
              "  </tbody>\n",
              "</table>\n",
              "</div>"
            ],
            "text/plain": [
              "                    item_name item_description  count\n",
              "0  Frito Bold Flavors Variety     Food - Chips   3723"
            ]
          },
          "execution_count": 25,
          "metadata": {},
          "output_type": "execute_result"
        }
      ],
      "source": [
        "nul_unit = df.loc[df['unit'].isna(), ['item_name', 'item_description']]\n",
        "nul_unit.value_counts().reset_index()"
      ]
    },
    {
      "cell_type": "code",
      "execution_count": null,
      "id": "b9501a48",
      "metadata": {
        "execution": {
          "iopub.execute_input": "2025-03-20T13:32:12.559003Z",
          "iopub.status.busy": "2025-03-20T13:32:12.558758Z",
          "iopub.status.idle": "2025-03-20T13:32:12.772710Z",
          "shell.execute_reply": "2025-03-20T13:32:12.771676Z"
        },
        "papermill": {
          "duration": 0.230178,
          "end_time": "2025-03-20T13:32:12.774339",
          "exception": false,
          "start_time": "2025-03-20T13:32:12.544161",
          "status": "completed"
        },
        "tags": [],
        "id": "b9501a48"
      },
      "outputs": [],
      "source": [
        "fill_unit = df.groupby('item_description')['unit'].agg(\n",
        "    lambda x: x.mode()[0] if not x.mode().empty else np.nan)"
      ]
    },
    {
      "cell_type": "code",
      "execution_count": null,
      "id": "44b55588",
      "metadata": {
        "execution": {
          "iopub.execute_input": "2025-03-20T13:32:12.803866Z",
          "iopub.status.busy": "2025-03-20T13:32:12.803602Z",
          "iopub.status.idle": "2025-03-20T13:32:12.900494Z",
          "shell.execute_reply": "2025-03-20T13:32:12.899588Z"
        },
        "papermill": {
          "duration": 0.113182,
          "end_time": "2025-03-20T13:32:12.902053",
          "exception": false,
          "start_time": "2025-03-20T13:32:12.788871",
          "status": "completed"
        },
        "tags": [],
        "id": "44b55588"
      },
      "outputs": [],
      "source": [
        "df['unit'] = df['unit'].fillna(df['item_description'].map(fill_unit))"
      ]
    },
    {
      "cell_type": "markdown",
      "id": "234177ee",
      "metadata": {
        "papermill": {
          "duration": 0.01379,
          "end_time": "2025-03-20T13:32:12.930435",
          "exception": false,
          "start_time": "2025-03-20T13:32:12.916645",
          "status": "completed"
        },
        "tags": [],
        "id": "234177ee"
      },
      "source": [
        "<div style=\"background-color: #CFD8DC; padding: 25px; border-radius: 10px;\">\n",
        "  <h1 style=\"color: #333;\"><strong>Checking if there are duplicates values in the dataset</strong></h1>\n",
        "</div>"
      ]
    },
    {
      "cell_type": "code",
      "execution_count": null,
      "id": "039da8ac",
      "metadata": {
        "execution": {
          "iopub.execute_input": "2025-03-20T13:32:12.960931Z",
          "iopub.status.busy": "2025-03-20T13:32:12.960679Z",
          "iopub.status.idle": "2025-03-20T13:32:14.444630Z",
          "shell.execute_reply": "2025-03-20T13:32:14.443809Z"
        },
        "papermill": {
          "duration": 1.501367,
          "end_time": "2025-03-20T13:32:14.445898",
          "exception": false,
          "start_time": "2025-03-20T13:32:12.944531",
          "status": "completed"
        },
        "tags": [],
        "id": "039da8ac",
        "outputId": "ee5469ae-3815-4994-b014-83122bc7df24"
      },
      "outputs": [
        {
          "data": {
            "text/plain": [
              "0"
            ]
          },
          "execution_count": 28,
          "metadata": {},
          "output_type": "execute_result"
        }
      ],
      "source": [
        "df.duplicated().sum()"
      ]
    },
    {
      "cell_type": "markdown",
      "id": "fcc1ee79",
      "metadata": {
        "papermill": {
          "duration": 0.013918,
          "end_time": "2025-03-20T13:32:14.474588",
          "exception": false,
          "start_time": "2025-03-20T13:32:14.460670",
          "status": "completed"
        },
        "tags": [],
        "id": "fcc1ee79"
      },
      "source": [
        "<div style=\"background-color: #CFD8DC; padding: 25px; border-radius: 10px;\">\n",
        "  <h1 style=\"color: #333;\"><strong>Handling date column</strong></h1>\n",
        "</div>"
      ]
    },
    {
      "cell_type": "code",
      "execution_count": null,
      "id": "85f4eed8",
      "metadata": {
        "execution": {
          "iopub.execute_input": "2025-03-20T13:32:14.512635Z",
          "iopub.status.busy": "2025-03-20T13:32:14.512389Z",
          "iopub.status.idle": "2025-03-20T13:32:17.025767Z",
          "shell.execute_reply": "2025-03-20T13:32:17.025057Z"
        },
        "papermill": {
          "duration": 2.538608,
          "end_time": "2025-03-20T13:32:17.026984",
          "exception": false,
          "start_time": "2025-03-20T13:32:14.488376",
          "status": "completed"
        },
        "tags": [],
        "id": "85f4eed8"
      },
      "outputs": [],
      "source": [
        "df['date'] = pd.to_datetime(df['date'])"
      ]
    },
    {
      "cell_type": "code",
      "execution_count": null,
      "id": "4a4b70a5",
      "metadata": {
        "execution": {
          "iopub.execute_input": "2025-03-20T13:32:17.056598Z",
          "iopub.status.busy": "2025-03-20T13:32:17.056332Z",
          "iopub.status.idle": "2025-03-20T13:32:18.228634Z",
          "shell.execute_reply": "2025-03-20T13:32:18.227683Z"
        },
        "papermill": {
          "duration": 1.188746,
          "end_time": "2025-03-20T13:32:18.230230",
          "exception": false,
          "start_time": "2025-03-20T13:32:17.041484",
          "status": "completed"
        },
        "tags": [],
        "id": "4a4b70a5"
      },
      "outputs": [],
      "source": [
        "df['dates'] = df['date'].dt.date\n",
        "df['month'] = df['date'].dt.month_name()\n",
        "df['year'] = df['date'].dt.year\n",
        "df['day'] = df['date'].dt.day_name()\n",
        "df['time'] = df['date'].dt.time"
      ]
    },
    {
      "cell_type": "code",
      "execution_count": null,
      "id": "2fe4f895",
      "metadata": {
        "execution": {
          "iopub.execute_input": "2025-03-20T13:32:18.259681Z",
          "iopub.status.busy": "2025-03-20T13:32:18.259422Z",
          "iopub.status.idle": "2025-03-20T13:32:18.369099Z",
          "shell.execute_reply": "2025-03-20T13:32:18.368495Z"
        },
        "papermill": {
          "duration": 0.125319,
          "end_time": "2025-03-20T13:32:18.370234",
          "exception": false,
          "start_time": "2025-03-20T13:32:18.244915",
          "status": "completed"
        },
        "tags": [],
        "id": "2fe4f895"
      },
      "outputs": [],
      "source": [
        "df['dates'] = pd.to_datetime(df['dates'])"
      ]
    },
    {
      "cell_type": "code",
      "execution_count": null,
      "id": "c9b10678",
      "metadata": {
        "execution": {
          "iopub.execute_input": "2025-03-20T13:32:18.399381Z",
          "iopub.status.busy": "2025-03-20T13:32:18.399126Z",
          "iopub.status.idle": "2025-03-20T13:32:18.655437Z",
          "shell.execute_reply": "2025-03-20T13:32:18.654758Z"
        },
        "papermill": {
          "duration": 0.272329,
          "end_time": "2025-03-20T13:32:18.656962",
          "exception": false,
          "start_time": "2025-03-20T13:32:18.384633",
          "status": "completed"
        },
        "tags": [],
        "id": "c9b10678"
      },
      "outputs": [],
      "source": [
        "df.drop(columns = ['date', 'hour'], inplace = True)"
      ]
    },
    {
      "cell_type": "markdown",
      "id": "4f579359",
      "metadata": {
        "papermill": {
          "duration": 0.013813,
          "end_time": "2025-03-20T13:32:18.685925",
          "exception": false,
          "start_time": "2025-03-20T13:32:18.672112",
          "status": "completed"
        },
        "tags": [],
        "id": "4f579359"
      },
      "source": [
        "<div style=\"background-color: #CFD8DC; padding: 25px; border-radius: 10px;\">\n",
        "  <h1 style=\"color: #333;\"><strong>Visual Analysis</strong></h1>\n",
        "</div>"
      ]
    },
    {
      "cell_type": "code",
      "execution_count": null,
      "id": "c5ff85c5",
      "metadata": {
        "execution": {
          "iopub.execute_input": "2025-03-20T13:32:18.714787Z",
          "iopub.status.busy": "2025-03-20T13:32:18.714550Z",
          "iopub.status.idle": "2025-03-20T13:32:19.388416Z",
          "shell.execute_reply": "2025-03-20T13:32:19.387539Z"
        },
        "papermill": {
          "duration": 0.689632,
          "end_time": "2025-03-20T13:32:19.389700",
          "exception": false,
          "start_time": "2025-03-20T13:32:18.700068",
          "status": "completed"
        },
        "tags": [],
        "id": "c5ff85c5",
        "outputId": "65f906ce-314a-4a9f-f2fb-4cd884b7197d"
      },
      "outputs": [
        {
          "data": {
            "text/html": [
              "<div>\n",
              "<style scoped>\n",
              "    .dataframe tbody tr th:only-of-type {\n",
              "        vertical-align: middle;\n",
              "    }\n",
              "\n",
              "    .dataframe tbody tr th {\n",
              "        vertical-align: top;\n",
              "    }\n",
              "\n",
              "    .dataframe thead th {\n",
              "        text-align: right;\n",
              "    }\n",
              "</style>\n",
              "<table border=\"1\" class=\"dataframe\">\n",
              "  <thead>\n",
              "    <tr style=\"text-align: right;\">\n",
              "      <th></th>\n",
              "      <th>index</th>\n",
              "      <th>0</th>\n",
              "    </tr>\n",
              "  </thead>\n",
              "  <tbody>\n",
              "    <tr>\n",
              "      <th>0</th>\n",
              "      <td>item_name</td>\n",
              "      <td>259</td>\n",
              "    </tr>\n",
              "    <tr>\n",
              "      <th>1</th>\n",
              "      <td>item_key</td>\n",
              "      <td>264</td>\n",
              "    </tr>\n",
              "    <tr>\n",
              "      <th>2</th>\n",
              "      <td>store_key</td>\n",
              "      <td>726</td>\n",
              "    </tr>\n",
              "    <tr>\n",
              "      <th>3</th>\n",
              "      <td>man_country</td>\n",
              "      <td>10</td>\n",
              "    </tr>\n",
              "    <tr>\n",
              "      <th>4</th>\n",
              "      <td>supplier</td>\n",
              "      <td>10</td>\n",
              "    </tr>\n",
              "    <tr>\n",
              "      <th>5</th>\n",
              "      <td>division</td>\n",
              "      <td>7</td>\n",
              "    </tr>\n",
              "    <tr>\n",
              "      <th>6</th>\n",
              "      <td>district</td>\n",
              "      <td>64</td>\n",
              "    </tr>\n",
              "    <tr>\n",
              "      <th>7</th>\n",
              "      <td>bank_name</td>\n",
              "      <td>39</td>\n",
              "    </tr>\n",
              "    <tr>\n",
              "      <th>8</th>\n",
              "      <td>trans_type</td>\n",
              "      <td>3</td>\n",
              "    </tr>\n",
              "    <tr>\n",
              "      <th>9</th>\n",
              "      <td>customer_key</td>\n",
              "      <td>9191</td>\n",
              "    </tr>\n",
              "    <tr>\n",
              "      <th>10</th>\n",
              "      <td>sub-district</td>\n",
              "      <td>540</td>\n",
              "    </tr>\n",
              "  </tbody>\n",
              "</table>\n",
              "</div>"
            ],
            "text/plain": [
              "           index     0\n",
              "0      item_name   259\n",
              "1       item_key   264\n",
              "2      store_key   726\n",
              "3    man_country    10\n",
              "4       supplier    10\n",
              "5       division     7\n",
              "6       district    64\n",
              "7      bank_name    39\n",
              "8     trans_type     3\n",
              "9   customer_key  9191\n",
              "10  sub-district   540"
            ]
          },
          "execution_count": 33,
          "metadata": {},
          "output_type": "execute_result"
        }
      ],
      "source": [
        "cols1 = df[['item_name','item_key','store_key', 'man_country', 'supplier', 'division', 'district','bank_name', 'trans_type', 'customer_key', 'sub-district']]\n",
        "cols1.nunique().reset_index()"
      ]
    },
    {
      "cell_type": "markdown",
      "id": "7b52e4d5",
      "metadata": {
        "papermill": {
          "duration": 0.014108,
          "end_time": "2025-03-20T13:32:19.418477",
          "exception": false,
          "start_time": "2025-03-20T13:32:19.404369",
          "status": "completed"
        },
        "tags": [],
        "id": "7b52e4d5"
      },
      "source": [
        "There are totally,\n",
        "\n",
        "* 259 numbers of items\n",
        "* 726 numbers of stores\n",
        "* 10 manufacturing countries\n",
        "* 10 different suppliers\n",
        "* 7 divisions with 64 districts and 540 sub-districts\n",
        "* 39 different banks with 3 different payment methods\n",
        "* 9191 numbers of customers"
      ]
    },
    {
      "cell_type": "code",
      "execution_count": null,
      "id": "111fd071",
      "metadata": {
        "execution": {
          "iopub.execute_input": "2025-03-20T13:32:19.447225Z",
          "iopub.status.busy": "2025-03-20T13:32:19.446997Z",
          "iopub.status.idle": "2025-03-20T13:32:19.608909Z",
          "shell.execute_reply": "2025-03-20T13:32:19.608074Z"
        },
        "papermill": {
          "duration": 0.17781,
          "end_time": "2025-03-20T13:32:19.610372",
          "exception": false,
          "start_time": "2025-03-20T13:32:19.432562",
          "status": "completed"
        },
        "tags": [],
        "id": "111fd071",
        "outputId": "611b2426-245d-4b07-c84e-f516c58fd8c9"
      },
      "outputs": [
        {
          "data": {
            "text/html": [
              "<div>\n",
              "<style scoped>\n",
              "    .dataframe tbody tr th:only-of-type {\n",
              "        vertical-align: middle;\n",
              "    }\n",
              "\n",
              "    .dataframe tbody tr th {\n",
              "        vertical-align: top;\n",
              "    }\n",
              "\n",
              "    .dataframe thead th {\n",
              "        text-align: right;\n",
              "    }\n",
              "</style>\n",
              "<table border=\"1\" class=\"dataframe\">\n",
              "  <thead>\n",
              "    <tr style=\"text-align: right;\">\n",
              "      <th></th>\n",
              "      <th>man_country</th>\n",
              "      <th>supplier</th>\n",
              "    </tr>\n",
              "  </thead>\n",
              "  <tbody>\n",
              "    <tr>\n",
              "      <th>0</th>\n",
              "      <td>Bangladesh</td>\n",
              "      <td>DENIMACH LTD</td>\n",
              "    </tr>\n",
              "    <tr>\n",
              "      <th>59</th>\n",
              "      <td>Cambodia</td>\n",
              "      <td>NINGBO SEDUNO IMP &amp; EXP CO.LTD</td>\n",
              "    </tr>\n",
              "    <tr>\n",
              "      <th>40</th>\n",
              "      <td>China</td>\n",
              "      <td>CHERRY GROUP CO.,LTD</td>\n",
              "    </tr>\n",
              "    <tr>\n",
              "      <th>8</th>\n",
              "      <td>Finland</td>\n",
              "      <td>HARDFORD AB</td>\n",
              "    </tr>\n",
              "    <tr>\n",
              "      <th>9</th>\n",
              "      <td>Germany</td>\n",
              "      <td>Friedola 1888 GmbH</td>\n",
              "    </tr>\n",
              "    <tr>\n",
              "      <th>5</th>\n",
              "      <td>India</td>\n",
              "      <td>Indo Count Industries Ltd</td>\n",
              "    </tr>\n",
              "    <tr>\n",
              "      <th>18</th>\n",
              "      <td>Lithuania</td>\n",
              "      <td>BIGSO AB</td>\n",
              "    </tr>\n",
              "    <tr>\n",
              "      <th>2</th>\n",
              "      <td>Netherlands</td>\n",
              "      <td>Bolsius Boxmeer</td>\n",
              "    </tr>\n",
              "    <tr>\n",
              "      <th>21</th>\n",
              "      <td>United States</td>\n",
              "      <td>MAESA SAS</td>\n",
              "    </tr>\n",
              "    <tr>\n",
              "      <th>6</th>\n",
              "      <td>poland</td>\n",
              "      <td>CHROMADURLIN S.A.S</td>\n",
              "    </tr>\n",
              "  </tbody>\n",
              "</table>\n",
              "</div>"
            ],
            "text/plain": [
              "      man_country                        supplier\n",
              "0      Bangladesh                    DENIMACH LTD\n",
              "59       Cambodia  NINGBO SEDUNO IMP & EXP CO.LTD\n",
              "40          China            CHERRY GROUP CO.,LTD\n",
              "8         Finland                     HARDFORD AB\n",
              "9         Germany              Friedola 1888 GmbH\n",
              "5           India       Indo Count Industries Ltd\n",
              "18      Lithuania                        BIGSO AB\n",
              "2     Netherlands                 Bolsius Boxmeer\n",
              "21  United States                       MAESA SAS\n",
              "6          poland              CHROMADURLIN S.A.S"
            ]
          },
          "execution_count": 34,
          "metadata": {},
          "output_type": "execute_result"
        }
      ],
      "source": [
        "#Relationship between manufacturering country and supplier\n",
        "df[['man_country', 'supplier']].drop_duplicates().sort_values(by = 'man_country')"
      ]
    },
    {
      "cell_type": "markdown",
      "id": "2e7b0040",
      "metadata": {
        "papermill": {
          "duration": 0.014097,
          "end_time": "2025-03-20T13:32:19.639107",
          "exception": false,
          "start_time": "2025-03-20T13:32:19.625010",
          "status": "completed"
        },
        "tags": [],
        "id": "2e7b0040"
      },
      "source": [
        "For each manufacturing country there is a unique single supplier."
      ]
    },
    {
      "cell_type": "code",
      "execution_count": null,
      "id": "c83fb84a",
      "metadata": {
        "execution": {
          "iopub.execute_input": "2025-03-20T13:32:19.668644Z",
          "iopub.status.busy": "2025-03-20T13:32:19.668385Z",
          "iopub.status.idle": "2025-03-20T13:32:19.671558Z",
          "shell.execute_reply": "2025-03-20T13:32:19.670937Z"
        },
        "papermill": {
          "duration": 0.019178,
          "end_time": "2025-03-20T13:32:19.672778",
          "exception": false,
          "start_time": "2025-03-20T13:32:19.653600",
          "status": "completed"
        },
        "tags": [],
        "id": "c83fb84a"
      },
      "outputs": [],
      "source": [
        "ecom_db = sql.connect('ecommerce.db')"
      ]
    },
    {
      "cell_type": "code",
      "execution_count": null,
      "id": "6fec02f0",
      "metadata": {
        "execution": {
          "iopub.execute_input": "2025-03-20T13:32:19.702352Z",
          "iopub.status.busy": "2025-03-20T13:32:19.701992Z",
          "iopub.status.idle": "2025-03-20T13:32:33.508049Z",
          "shell.execute_reply": "2025-03-20T13:32:33.507240Z"
        },
        "papermill": {
          "duration": 13.822363,
          "end_time": "2025-03-20T13:32:33.509312",
          "exception": false,
          "start_time": "2025-03-20T13:32:19.686949",
          "status": "completed"
        },
        "tags": [],
        "id": "6fec02f0",
        "outputId": "9e06415d-40ac-4d71-d432-05c4605d7c53"
      },
      "outputs": [
        {
          "data": {
            "text/plain": [
              "1000000"
            ]
          },
          "execution_count": 36,
          "metadata": {},
          "output_type": "execute_result"
        }
      ],
      "source": [
        "df.to_sql('df', ecom_db, if_exists='replace', index=False)"
      ]
    },
    {
      "cell_type": "code",
      "execution_count": null,
      "id": "6b9618b8",
      "metadata": {
        "execution": {
          "iopub.execute_input": "2025-03-20T13:32:33.539452Z",
          "iopub.status.busy": "2025-03-20T13:32:33.539189Z",
          "iopub.status.idle": "2025-03-20T13:32:34.593218Z",
          "shell.execute_reply": "2025-03-20T13:32:34.592110Z"
        },
        "papermill": {
          "duration": 1.070902,
          "end_time": "2025-03-20T13:32:34.595022",
          "exception": false,
          "start_time": "2025-03-20T13:32:33.524120",
          "status": "completed"
        },
        "tags": [],
        "id": "6b9618b8",
        "outputId": "c6b808cb-47df-4976-fba3-92c44f389f65"
      },
      "outputs": [
        {
          "data": {
            "text/html": [
              "<div>\n",
              "<style scoped>\n",
              "    .dataframe tbody tr th:only-of-type {\n",
              "        vertical-align: middle;\n",
              "    }\n",
              "\n",
              "    .dataframe tbody tr th {\n",
              "        vertical-align: top;\n",
              "    }\n",
              "\n",
              "    .dataframe thead th {\n",
              "        text-align: right;\n",
              "    }\n",
              "</style>\n",
              "<table border=\"1\" class=\"dataframe\">\n",
              "  <thead>\n",
              "    <tr style=\"text-align: right;\">\n",
              "      <th></th>\n",
              "      <th>year</th>\n",
              "      <th>store_key</th>\n",
              "      <th>total_sales</th>\n",
              "    </tr>\n",
              "  </thead>\n",
              "  <tbody>\n",
              "    <tr>\n",
              "      <th>0</th>\n",
              "      <td>2014</td>\n",
              "      <td>S00108</td>\n",
              "      <td>25451.8</td>\n",
              "    </tr>\n",
              "    <tr>\n",
              "      <th>1</th>\n",
              "      <td>2015</td>\n",
              "      <td>S00680</td>\n",
              "      <td>26603.0</td>\n",
              "    </tr>\n",
              "    <tr>\n",
              "      <th>2</th>\n",
              "      <td>2016</td>\n",
              "      <td>S00460</td>\n",
              "      <td>26095.0</td>\n",
              "    </tr>\n",
              "    <tr>\n",
              "      <th>3</th>\n",
              "      <td>2017</td>\n",
              "      <td>S00375</td>\n",
              "      <td>26474.0</td>\n",
              "    </tr>\n",
              "    <tr>\n",
              "      <th>4</th>\n",
              "      <td>2018</td>\n",
              "      <td>S00640</td>\n",
              "      <td>26864.5</td>\n",
              "    </tr>\n",
              "    <tr>\n",
              "      <th>5</th>\n",
              "      <td>2019</td>\n",
              "      <td>S00246</td>\n",
              "      <td>26572.0</td>\n",
              "    </tr>\n",
              "    <tr>\n",
              "      <th>6</th>\n",
              "      <td>2020</td>\n",
              "      <td>S00320</td>\n",
              "      <td>27336.8</td>\n",
              "    </tr>\n",
              "    <tr>\n",
              "      <th>7</th>\n",
              "      <td>2021</td>\n",
              "      <td>S00366</td>\n",
              "      <td>2848.0</td>\n",
              "    </tr>\n",
              "  </tbody>\n",
              "</table>\n",
              "</div>"
            ],
            "text/plain": [
              "   year store_key  total_sales\n",
              "0  2014    S00108      25451.8\n",
              "1  2015    S00680      26603.0\n",
              "2  2016    S00460      26095.0\n",
              "3  2017    S00375      26474.0\n",
              "4  2018    S00640      26864.5\n",
              "5  2019    S00246      26572.0\n",
              "6  2020    S00320      27336.8\n",
              "7  2021    S00366       2848.0"
            ]
          },
          "execution_count": 37,
          "metadata": {},
          "output_type": "execute_result"
        }
      ],
      "source": [
        "q1 = \"\"\"\n",
        "with cte as (\n",
        "  SELECT\n",
        "    year, store_key,\n",
        "    round(SUM(total_price), 1) AS total_sales\n",
        "FROM\n",
        "    df\n",
        "    GROUP BY\n",
        "    year, store_key\n",
        "ORDER BY\n",
        "    total_sales DESC\n",
        "    )\n",
        "\n",
        "  select year, store_key, total_sales\n",
        "  from(\n",
        "  select year, store_key, total_sales,\n",
        "  dense_rank() over (partition by year order by total_sales desc) as rnk\n",
        "  from cte\n",
        "  ) as a\n",
        "  where rnk = 1\n",
        "  order by year\n",
        "\"\"\"\n",
        "\n",
        "top_sales_store_year = pd.read_sql_query(q1, ecom_db)\n",
        "top_sales_store_year"
      ]
    },
    {
      "cell_type": "code",
      "execution_count": null,
      "id": "f85459cc",
      "metadata": {
        "execution": {
          "iopub.execute_input": "2025-03-20T13:32:34.627551Z",
          "iopub.status.busy": "2025-03-20T13:32:34.627291Z",
          "iopub.status.idle": "2025-03-20T13:32:35.443084Z",
          "shell.execute_reply": "2025-03-20T13:32:35.442069Z"
        },
        "papermill": {
          "duration": 0.832887,
          "end_time": "2025-03-20T13:32:35.444726",
          "exception": false,
          "start_time": "2025-03-20T13:32:34.611839",
          "status": "completed"
        },
        "tags": [],
        "id": "f85459cc",
        "outputId": "0903a6ef-f267-4359-d1c2-538375fec7f4"
      },
      "outputs": [
        {
          "data": {
            "text/html": [
              "<div>\n",
              "<style scoped>\n",
              "    .dataframe tbody tr th:only-of-type {\n",
              "        vertical-align: middle;\n",
              "    }\n",
              "\n",
              "    .dataframe tbody tr th {\n",
              "        vertical-align: top;\n",
              "    }\n",
              "\n",
              "    .dataframe thead th {\n",
              "        text-align: right;\n",
              "    }\n",
              "</style>\n",
              "<table border=\"1\" class=\"dataframe\">\n",
              "  <thead>\n",
              "    <tr style=\"text-align: right;\">\n",
              "      <th></th>\n",
              "      <th>year</th>\n",
              "      <th>start_date</th>\n",
              "      <th>end_date</th>\n",
              "    </tr>\n",
              "  </thead>\n",
              "  <tbody>\n",
              "    <tr>\n",
              "      <th>0</th>\n",
              "      <td>2014</td>\n",
              "      <td>2014-01-20 00:00:00</td>\n",
              "      <td>2014-12-31 00:00:00</td>\n",
              "    </tr>\n",
              "    <tr>\n",
              "      <th>1</th>\n",
              "      <td>2015</td>\n",
              "      <td>2015-01-01 00:00:00</td>\n",
              "      <td>2015-12-31 00:00:00</td>\n",
              "    </tr>\n",
              "    <tr>\n",
              "      <th>2</th>\n",
              "      <td>2016</td>\n",
              "      <td>2016-01-01 00:00:00</td>\n",
              "      <td>2016-12-31 00:00:00</td>\n",
              "    </tr>\n",
              "    <tr>\n",
              "      <th>3</th>\n",
              "      <td>2017</td>\n",
              "      <td>2017-01-01 00:00:00</td>\n",
              "      <td>2017-12-31 00:00:00</td>\n",
              "    </tr>\n",
              "    <tr>\n",
              "      <th>4</th>\n",
              "      <td>2018</td>\n",
              "      <td>2018-01-01 00:00:00</td>\n",
              "      <td>2018-12-31 00:00:00</td>\n",
              "    </tr>\n",
              "    <tr>\n",
              "      <th>5</th>\n",
              "      <td>2019</td>\n",
              "      <td>2019-01-01 00:00:00</td>\n",
              "      <td>2019-12-31 00:00:00</td>\n",
              "    </tr>\n",
              "    <tr>\n",
              "      <th>6</th>\n",
              "      <td>2020</td>\n",
              "      <td>2020-01-01 00:00:00</td>\n",
              "      <td>2020-12-31 00:00:00</td>\n",
              "    </tr>\n",
              "    <tr>\n",
              "      <th>7</th>\n",
              "      <td>2021</td>\n",
              "      <td>2021-01-01 00:00:00</td>\n",
              "      <td>2021-01-23 00:00:00</td>\n",
              "    </tr>\n",
              "  </tbody>\n",
              "</table>\n",
              "</div>"
            ],
            "text/plain": [
              "   year           start_date             end_date\n",
              "0  2014  2014-01-20 00:00:00  2014-12-31 00:00:00\n",
              "1  2015  2015-01-01 00:00:00  2015-12-31 00:00:00\n",
              "2  2016  2016-01-01 00:00:00  2016-12-31 00:00:00\n",
              "3  2017  2017-01-01 00:00:00  2017-12-31 00:00:00\n",
              "4  2018  2018-01-01 00:00:00  2018-12-31 00:00:00\n",
              "5  2019  2019-01-01 00:00:00  2019-12-31 00:00:00\n",
              "6  2020  2020-01-01 00:00:00  2020-12-31 00:00:00\n",
              "7  2021  2021-01-01 00:00:00  2021-01-23 00:00:00"
            ]
          },
          "execution_count": 38,
          "metadata": {},
          "output_type": "execute_result"
        }
      ],
      "source": [
        "q1 = \"\"\"\n",
        "select year, min(dates) as start_date, max(dates) as end_date\n",
        "from df\n",
        "group by year\n",
        "order by 1\n",
        "\"\"\"\n",
        "pd.read_sql_query(q1, ecom_db)"
      ]
    },
    {
      "cell_type": "code",
      "execution_count": null,
      "id": "7e0e89c1",
      "metadata": {
        "execution": {
          "iopub.execute_input": "2025-03-20T13:32:35.477585Z",
          "iopub.status.busy": "2025-03-20T13:32:35.477220Z",
          "iopub.status.idle": "2025-03-20T13:32:36.190573Z",
          "shell.execute_reply": "2025-03-20T13:32:36.189713Z"
        },
        "papermill": {
          "duration": 0.730803,
          "end_time": "2025-03-20T13:32:36.191933",
          "exception": false,
          "start_time": "2025-03-20T13:32:35.461130",
          "status": "completed"
        },
        "tags": [],
        "id": "7e0e89c1",
        "outputId": "b32bb035-ba8a-4e6d-8497-5469e16919bc"
      },
      "outputs": [
        {
          "data": {
            "image/png": "[encoded data removed]",
            "text/plain": [
              "<Figure size 1200x600 with 1 Axes>"
            ]
          },
          "metadata": {},
          "output_type": "display_data"
        }
      ],
      "source": [
        "plt.figure(figsize=(12, 6))\n",
        "a = sns.barplot(data = top_sales_store_year[top_sales_store_year['year'] != 2021],\n",
        "                x = 'year', y = 'total_sales', hue='store_key', palette='Set2')\n",
        "plt.title('Every year highest sales in store')\n",
        "plt.xlabel('Year')\n",
        "plt.ylabel('Total Sales')\n",
        "\n",
        "\n",
        "plt.tight_layout()\n",
        "plt.show()"
      ]
    },
    {
      "cell_type": "markdown",
      "id": "c3fdda75",
      "metadata": {
        "papermill": {
          "duration": 0.015077,
          "end_time": "2025-03-20T13:32:36.222957",
          "exception": false,
          "start_time": "2025-03-20T13:32:36.207880",
          "status": "completed"
        },
        "tags": [],
        "id": "c3fdda75"
      },
      "source": [
        "From the above analysis, the highest sales happened in the year **2015** in store **S0010**.\n",
        "\n",
        "Since the data available for the 2021 is only from 1st Jan 2021 to 23rd Jan 2021, the total sales is very less. Hence, we have ignored here."
      ]
    },
    {
      "cell_type": "markdown",
      "id": "f2e01a8d",
      "metadata": {
        "papermill": {
          "duration": 0.014969,
          "end_time": "2025-03-20T13:32:36.253522",
          "exception": false,
          "start_time": "2025-03-20T13:32:36.238553",
          "status": "completed"
        },
        "tags": [],
        "id": "f2e01a8d"
      },
      "source": [
        "## Every year highest sold item (quantity and total price)"
      ]
    },
    {
      "cell_type": "markdown",
      "id": "c72bd3b1",
      "metadata": {
        "papermill": {
          "duration": 0.014965,
          "end_time": "2025-03-20T13:32:36.283633",
          "exception": false,
          "start_time": "2025-03-20T13:32:36.268668",
          "status": "completed"
        },
        "tags": [],
        "id": "c72bd3b1"
      },
      "source": [
        "<div style=\"background-color: #CFD8DC; padding: 25px; border-radius: 10px;\">\n",
        "  <h1 style=\"color: #333;\"><strong>Every year highest sold item</strong></h1>\n",
        "</div>"
      ]
    },
    {
      "cell_type": "code",
      "execution_count": null,
      "id": "91813c43",
      "metadata": {
        "execution": {
          "iopub.execute_input": "2025-03-20T13:32:36.314770Z",
          "iopub.status.busy": "2025-03-20T13:32:36.314496Z",
          "iopub.status.idle": "2025-03-20T13:32:37.654839Z",
          "shell.execute_reply": "2025-03-20T13:32:37.653862Z"
        },
        "papermill": {
          "duration": 1.357542,
          "end_time": "2025-03-20T13:32:37.656227",
          "exception": false,
          "start_time": "2025-03-20T13:32:36.298685",
          "status": "completed"
        },
        "tags": [],
        "id": "91813c43",
        "outputId": "ca23ae65-e51f-4933-c4a1-3f840ca44912"
      },
      "outputs": [
        {
          "data": {
            "text/html": [
              "<div>\n",
              "<style scoped>\n",
              "    .dataframe tbody tr th:only-of-type {\n",
              "        vertical-align: middle;\n",
              "    }\n",
              "\n",
              "    .dataframe tbody tr th {\n",
              "        vertical-align: top;\n",
              "    }\n",
              "\n",
              "    .dataframe thead th {\n",
              "        text-align: right;\n",
              "    }\n",
              "</style>\n",
              "<table border=\"1\" class=\"dataframe\">\n",
              "  <thead>\n",
              "    <tr style=\"text-align: right;\">\n",
              "      <th></th>\n",
              "      <th>year</th>\n",
              "      <th>item_description</th>\n",
              "      <th>total_quantity_sold</th>\n",
              "      <th>total_sales_amount</th>\n",
              "      <th>q_rnk</th>\n",
              "    </tr>\n",
              "  </thead>\n",
              "  <tbody>\n",
              "    <tr>\n",
              "      <th>0</th>\n",
              "      <td>2014</td>\n",
              "      <td>a. Beverage - Soda</td>\n",
              "      <td>88879</td>\n",
              "      <td>877300.0</td>\n",
              "      <td>1</td>\n",
              "    </tr>\n",
              "    <tr>\n",
              "      <th>1</th>\n",
              "      <td>2015</td>\n",
              "      <td>Food - Healthy</td>\n",
              "      <td>94796</td>\n",
              "      <td>1497118.5</td>\n",
              "      <td>1</td>\n",
              "    </tr>\n",
              "    <tr>\n",
              "      <th>2</th>\n",
              "      <td>2016</td>\n",
              "      <td>a. Beverage - Soda</td>\n",
              "      <td>93637</td>\n",
              "      <td>924687.8</td>\n",
              "      <td>1</td>\n",
              "    </tr>\n",
              "    <tr>\n",
              "      <th>3</th>\n",
              "      <td>2017</td>\n",
              "      <td>a. Beverage - Soda</td>\n",
              "      <td>93508</td>\n",
              "      <td>916345.3</td>\n",
              "      <td>1</td>\n",
              "    </tr>\n",
              "    <tr>\n",
              "      <th>4</th>\n",
              "      <td>2018</td>\n",
              "      <td>a. Beverage - Soda</td>\n",
              "      <td>93935</td>\n",
              "      <td>929126.5</td>\n",
              "      <td>1</td>\n",
              "    </tr>\n",
              "    <tr>\n",
              "      <th>5</th>\n",
              "      <td>2019</td>\n",
              "      <td>a. Beverage - Soda</td>\n",
              "      <td>94702</td>\n",
              "      <td>933581.8</td>\n",
              "      <td>1</td>\n",
              "    </tr>\n",
              "    <tr>\n",
              "      <th>6</th>\n",
              "      <td>2020</td>\n",
              "      <td>a. Beverage - Soda</td>\n",
              "      <td>94988</td>\n",
              "      <td>927722.3</td>\n",
              "      <td>1</td>\n",
              "    </tr>\n",
              "    <tr>\n",
              "      <th>7</th>\n",
              "      <td>2021</td>\n",
              "      <td>a. Beverage - Soda</td>\n",
              "      <td>5698</td>\n",
              "      <td>55533.0</td>\n",
              "      <td>1</td>\n",
              "    </tr>\n",
              "  </tbody>\n",
              "</table>\n",
              "</div>"
            ],
            "text/plain": [
              "   year    item_description  total_quantity_sold  total_sales_amount  q_rnk\n",
              "0  2014  a. Beverage - Soda                88879            877300.0      1\n",
              "1  2015      Food - Healthy                94796           1497118.5      1\n",
              "2  2016  a. Beverage - Soda                93637            924687.8      1\n",
              "3  2017  a. Beverage - Soda                93508            916345.3      1\n",
              "4  2018  a. Beverage - Soda                93935            929126.5      1\n",
              "5  2019  a. Beverage - Soda                94702            933581.8      1\n",
              "6  2020  a. Beverage - Soda                94988            927722.3      1\n",
              "7  2021  a. Beverage - Soda                 5698             55533.0      1"
            ]
          },
          "execution_count": 40,
          "metadata": {},
          "output_type": "execute_result"
        }
      ],
      "source": [
        "q1 = \"\"\"\n",
        "select year, item_description, total_quantity_sold, total_sales_amount, q_rnk\n",
        "from(\n",
        "select year, item_description, total_quantity_sold, total_sales_amount,\n",
        "dense_rank() over (partition by year order by total_quantity_sold desc) as q_rnk\n",
        "from(\n",
        "select year, item_description, sum(quantity) as total_quantity_sold, round(sum(total_price), 1) as total_sales_amount\n",
        "from df\n",
        "group by year, item_description\n",
        "order by total_quantity_sold desc) a\n",
        ") b\n",
        "where q_rnk = 1\n",
        "order by year\n",
        "\"\"\"\n",
        "total_quantity_sold = pd.read_sql_query(q1, ecom_db)\n",
        "total_quantity_sold"
      ]
    },
    {
      "cell_type": "code",
      "execution_count": null,
      "id": "8309d184",
      "metadata": {
        "execution": {
          "iopub.execute_input": "2025-03-20T13:32:37.689899Z",
          "iopub.status.busy": "2025-03-20T13:32:37.689634Z",
          "iopub.status.idle": "2025-03-20T13:32:39.020096Z",
          "shell.execute_reply": "2025-03-20T13:32:39.019249Z"
        },
        "papermill": {
          "duration": 1.348667,
          "end_time": "2025-03-20T13:32:39.021637",
          "exception": false,
          "start_time": "2025-03-20T13:32:37.672970",
          "status": "completed"
        },
        "tags": [],
        "id": "8309d184",
        "outputId": "83e4c28b-fce2-474b-b544-0dc44c389901"
      },
      "outputs": [
        {
          "data": {
            "text/html": [
              "<div>\n",
              "<style scoped>\n",
              "    .dataframe tbody tr th:only-of-type {\n",
              "        vertical-align: middle;\n",
              "    }\n",
              "\n",
              "    .dataframe tbody tr th {\n",
              "        vertical-align: top;\n",
              "    }\n",
              "\n",
              "    .dataframe thead th {\n",
              "        text-align: right;\n",
              "    }\n",
              "</style>\n",
              "<table border=\"1\" class=\"dataframe\">\n",
              "  <thead>\n",
              "    <tr style=\"text-align: right;\">\n",
              "      <th></th>\n",
              "      <th>year</th>\n",
              "      <th>item_description</th>\n",
              "      <th>total_quantity_sold</th>\n",
              "      <th>total_sales_amount</th>\n",
              "      <th>q_rnk</th>\n",
              "    </tr>\n",
              "  </thead>\n",
              "  <tbody>\n",
              "    <tr>\n",
              "      <th>0</th>\n",
              "      <td>2014</td>\n",
              "      <td>Food - Healthy</td>\n",
              "      <td>88790</td>\n",
              "      <td>1406845.0</td>\n",
              "      <td>1</td>\n",
              "    </tr>\n",
              "    <tr>\n",
              "      <th>1</th>\n",
              "      <td>2015</td>\n",
              "      <td>Food - Healthy</td>\n",
              "      <td>94796</td>\n",
              "      <td>1497118.5</td>\n",
              "      <td>1</td>\n",
              "    </tr>\n",
              "    <tr>\n",
              "      <th>2</th>\n",
              "      <td>2016</td>\n",
              "      <td>Food - Healthy</td>\n",
              "      <td>92867</td>\n",
              "      <td>1465907.5</td>\n",
              "      <td>1</td>\n",
              "    </tr>\n",
              "    <tr>\n",
              "      <th>3</th>\n",
              "      <td>2017</td>\n",
              "      <td>Food - Healthy</td>\n",
              "      <td>92928</td>\n",
              "      <td>1474811.5</td>\n",
              "      <td>1</td>\n",
              "    </tr>\n",
              "    <tr>\n",
              "      <th>4</th>\n",
              "      <td>2018</td>\n",
              "      <td>Beverage - Energy/Protein</td>\n",
              "      <td>43239</td>\n",
              "      <td>1491280.0</td>\n",
              "      <td>1</td>\n",
              "    </tr>\n",
              "    <tr>\n",
              "      <th>5</th>\n",
              "      <td>2019</td>\n",
              "      <td>Food - Healthy</td>\n",
              "      <td>93538</td>\n",
              "      <td>1480297.0</td>\n",
              "      <td>1</td>\n",
              "    </tr>\n",
              "    <tr>\n",
              "      <th>6</th>\n",
              "      <td>2020</td>\n",
              "      <td>Food - Healthy</td>\n",
              "      <td>93309</td>\n",
              "      <td>1479379.0</td>\n",
              "      <td>1</td>\n",
              "    </tr>\n",
              "    <tr>\n",
              "      <th>7</th>\n",
              "      <td>2021</td>\n",
              "      <td>Food - Healthy</td>\n",
              "      <td>5509</td>\n",
              "      <td>87756.0</td>\n",
              "      <td>1</td>\n",
              "    </tr>\n",
              "  </tbody>\n",
              "</table>\n",
              "</div>"
            ],
            "text/plain": [
              "   year           item_description  total_quantity_sold  total_sales_amount  \\\n",
              "0  2014             Food - Healthy                88790           1406845.0   \n",
              "1  2015             Food - Healthy                94796           1497118.5   \n",
              "2  2016             Food - Healthy                92867           1465907.5   \n",
              "3  2017             Food - Healthy                92928           1474811.5   \n",
              "4  2018  Beverage - Energy/Protein                43239           1491280.0   \n",
              "5  2019             Food - Healthy                93538           1480297.0   \n",
              "6  2020             Food - Healthy                93309           1479379.0   \n",
              "7  2021             Food - Healthy                 5509             87756.0   \n",
              "\n",
              "   q_rnk  \n",
              "0      1  \n",
              "1      1  \n",
              "2      1  \n",
              "3      1  \n",
              "4      1  \n",
              "5      1  \n",
              "6      1  \n",
              "7      1  "
            ]
          },
          "execution_count": 41,
          "metadata": {},
          "output_type": "execute_result"
        }
      ],
      "source": [
        "q1 = \"\"\"\n",
        "select year, item_description, total_quantity_sold, total_sales_amount, q_rnk\n",
        "from(\n",
        "select year, item_description, total_quantity_sold, total_sales_amount,\n",
        "dense_rank() over (partition by year order by total_sales_amount desc) as q_rnk\n",
        "from(\n",
        "select year, item_description, sum(quantity) as total_quantity_sold, round(sum(total_price), 1) as total_sales_amount\n",
        "from df\n",
        "group by year, item_description\n",
        "order by total_sales_amount desc) a\n",
        ") b\n",
        "where q_rnk = 1\n",
        "order by year\n",
        "\"\"\"\n",
        "total_sales_amount = pd.read_sql_query(q1, ecom_db)\n",
        "total_sales_amount"
      ]
    },
    {
      "cell_type": "code",
      "execution_count": null,
      "id": "11ccf4cd",
      "metadata": {
        "execution": {
          "iopub.execute_input": "2025-03-20T13:32:39.055357Z",
          "iopub.status.busy": "2025-03-20T13:32:39.055108Z",
          "iopub.status.idle": "2025-03-20T13:32:39.718339Z",
          "shell.execute_reply": "2025-03-20T13:32:39.717473Z"
        },
        "papermill": {
          "duration": 0.681431,
          "end_time": "2025-03-20T13:32:39.719694",
          "exception": false,
          "start_time": "2025-03-20T13:32:39.038263",
          "status": "completed"
        },
        "tags": [],
        "id": "11ccf4cd",
        "outputId": "6802fa25-83bf-47d5-8d01-d0c9eab710cd"
      },
      "outputs": [
        {
          "data": {
            "image/png": "[encoded data removed]",
            "text/plain": [
              "<Figure size 1600x600 with 2 Axes>"
            ]
          },
          "metadata": {},
          "output_type": "display_data"
        }
      ],
      "source": [
        "def disp_va(ax):\n",
        "\n",
        "    for p in ax.patches:\n",
        "        ax.annotate(f'{p.get_height():.0f}',  # Format the annotation\n",
        "                    (p.get_x() + p.get_width() / 2., p.get_height()),\n",
        "                    ha='center', va='center',\n",
        "                    xytext=(0, 9),  # Distance from bar\n",
        "                    textcoords='offset points')\n",
        "\n",
        "fig, (ax1, ax2) = plt.subplots(1, 2, figsize=(16, 6))\n",
        "\n",
        "sns.barplot(data=total_quantity_sold[total_quantity_sold['year'] != 2021], x='year', y='total_quantity_sold', hue='item_description', palette='Set2', ax=ax1)\n",
        "ax1.set_title('Every Year Highest Sold Item (Quantity)')\n",
        "ax1.set_xlabel('Year')\n",
        "ax1.set_ylabel('Total Quantity Sold')\n",
        "disp_va(ax1)\n",
        "\n",
        "sns.barplot(data=total_sales_amount[total_sales_amount['year'] != 2021], x='year', y='total_sales_amount', hue='item_description', palette='Set2', ax=ax2)\n",
        "ax2.set_title('Every Year Highest Sold Item (Total Price)')\n",
        "ax2.set_xlabel('Year')\n",
        "ax2.set_ylabel('Total Sales Amount')\n",
        "disp_va(ax2)\n",
        "\n"
      ]
    },
    {
      "cell_type": "markdown",
      "id": "b56f2049",
      "metadata": {
        "papermill": {
          "duration": 0.016649,
          "end_time": "2025-03-20T13:32:39.754547",
          "exception": false,
          "start_time": "2025-03-20T13:32:39.737898",
          "status": "completed"
        },
        "tags": [],
        "id": "b56f2049"
      },
      "source": [
        "From the above analysis, only 2 item categories are sold highly.\n",
        "* Beverage - Soda\n",
        "* Food - Healthy"
      ]
    },
    {
      "cell_type": "markdown",
      "id": "b8f3bd93",
      "metadata": {
        "papermill": {
          "duration": 0.016715,
          "end_time": "2025-03-20T13:32:39.788246",
          "exception": false,
          "start_time": "2025-03-20T13:32:39.771531",
          "status": "completed"
        },
        "tags": [],
        "id": "b8f3bd93"
      },
      "source": [
        "<div style=\"background-color: #CFD8DC; padding: 25px; border-radius: 10px;\">\n",
        "  <h1 style=\"color: #333;\"><strong>Division wise items sold</strong></h1>\n",
        "</div>"
      ]
    },
    {
      "cell_type": "code",
      "execution_count": null,
      "id": "a88ee892",
      "metadata": {
        "execution": {
          "iopub.execute_input": "2025-03-20T13:32:39.822694Z",
          "iopub.status.busy": "2025-03-20T13:32:39.822393Z",
          "iopub.status.idle": "2025-03-20T13:32:40.097549Z",
          "shell.execute_reply": "2025-03-20T13:32:40.096721Z"
        },
        "papermill": {
          "duration": 0.294422,
          "end_time": "2025-03-20T13:32:40.099181",
          "exception": false,
          "start_time": "2025-03-20T13:32:39.804759",
          "status": "completed"
        },
        "tags": [],
        "id": "a88ee892",
        "outputId": "6e319001-c146-43cc-8344-661845529d98"
      },
      "outputs": [
        {
          "data": {
            "image/png": "[encoded data removed]",
            "text/plain": [
              "<Figure size 1000x600 with 1 Axes>"
            ]
          },
          "metadata": {},
          "output_type": "display_data"
        }
      ],
      "source": [
        "div_sales = df.groupby(['division'])[['total_price', 'quantity']].sum().sort_values(by=['total_price', 'quantity'], ascending=False).reset_index()\n",
        "\n",
        "\n",
        "plt.figure(figsize=(10, 6))\n",
        "a = sns.barplot(data=div_sales, x='division', y='total_price', palette='Set2')\n",
        "plt.title('Division wise Total Sales Amount')\n",
        "plt.xlabel('Division')\n",
        "plt.ylabel('Total Sales Amount')\n",
        "\n",
        "\n",
        "\n",
        "plt.tight_layout()\n",
        "plt.show()"
      ]
    },
    {
      "cell_type": "code",
      "execution_count": null,
      "id": "01f33689",
      "metadata": {
        "execution": {
          "iopub.execute_input": "2025-03-20T13:32:40.137962Z",
          "iopub.status.busy": "2025-03-20T13:32:40.137700Z",
          "iopub.status.idle": "2025-03-20T13:32:40.537824Z",
          "shell.execute_reply": "2025-03-20T13:32:40.536969Z"
        },
        "papermill": {
          "duration": 0.419215,
          "end_time": "2025-03-20T13:32:40.539006",
          "exception": false,
          "start_time": "2025-03-20T13:32:40.119791",
          "status": "completed"
        },
        "tags": [],
        "id": "01f33689",
        "outputId": "b4164ec7-1110-41a9-9929-f49f2faa01d5"
      },
      "outputs": [
        {
          "data": {
            "image/png": "[encoded data removed]",
            "text/plain": [
              "<Figure size 1200x600 with 1 Axes>"
            ]
          },
          "metadata": {},
          "output_type": "display_data"
        }
      ],
      "source": [
        "overall_sales = df.groupby(['year', 'division'])['total_price'].sum().reset_index()\n",
        "\n",
        "plt.figure(figsize=(12, 6))\n",
        "sns.lineplot(data=overall_sales[overall_sales['year'] !=2021], x='year', y='total_price', hue='division', palette='Set2')\n",
        "plt.title('Overall Sales Trend')\n",
        "plt.xlabel('Year')\n",
        "plt.ylabel('Total Sales Amount')\n",
        "plt.tight_layout()\n",
        "plt.show()"
      ]
    },
    {
      "cell_type": "markdown",
      "id": "24d35cb6",
      "metadata": {
        "papermill": {
          "duration": 0.017712,
          "end_time": "2025-03-20T13:32:40.575207",
          "exception": false,
          "start_time": "2025-03-20T13:32:40.557495",
          "status": "completed"
        },
        "tags": [],
        "id": "24d35cb6"
      },
      "source": [
        "From the above analysis, the more sales happening at Dhaka.\n",
        "Food-Healthy item is the most sold item in all the division."
      ]
    },
    {
      "cell_type": "markdown",
      "id": "a1ef53a4",
      "metadata": {
        "papermill": {
          "duration": 0.017415,
          "end_time": "2025-03-20T13:32:40.610220",
          "exception": false,
          "start_time": "2025-03-20T13:32:40.592805",
          "status": "completed"
        },
        "tags": [],
        "id": "a1ef53a4"
      },
      "source": [
        "<div style=\"background-color: #CFD8DC; padding: 25px; border-radius: 10px;\">\n",
        "  <h1 style=\"color: #333;\"><strong>Number of stores per division</strong></h1>\n",
        "</div>"
      ]
    },
    {
      "cell_type": "code",
      "execution_count": null,
      "id": "6adc7ef3",
      "metadata": {
        "execution": {
          "iopub.execute_input": "2025-03-20T13:32:40.646802Z",
          "iopub.status.busy": "2025-03-20T13:32:40.646564Z",
          "iopub.status.idle": "2025-03-20T13:32:40.938969Z",
          "shell.execute_reply": "2025-03-20T13:32:40.938107Z"
        },
        "papermill": {
          "duration": 0.312671,
          "end_time": "2025-03-20T13:32:40.940515",
          "exception": false,
          "start_time": "2025-03-20T13:32:40.627844",
          "status": "completed"
        },
        "tags": [],
        "id": "6adc7ef3",
        "outputId": "85e62adb-3017-45b6-be88-b4d25245b8f4"
      },
      "outputs": [
        {
          "data": {
            "image/png": "[encoded data removed]",
            "text/plain": [
              "<Figure size 1000x600 with 1 Axes>"
            ]
          },
          "metadata": {},
          "output_type": "display_data"
        }
      ],
      "source": [
        "store_cnt = df.groupby(['division'])['store_key'].nunique().reset_index()\n",
        "store_cnt = store_cnt.sort_values(by='store_key', ascending=False)\n",
        "\n",
        "plt.figure(figsize=(10, 6))\n",
        "a = sns.barplot(data=store_cnt, x='division', y='store_key', palette='Set2')\n",
        "\n",
        "plt.title('Number of Stores per Division')\n",
        "plt.xlabel('Division')\n",
        "plt.ylabel('Number of Stores')\n",
        "\n",
        "\n",
        "plt.tight_layout()\n",
        "plt.show()"
      ]
    },
    {
      "cell_type": "markdown",
      "id": "b802d94b",
      "metadata": {
        "papermill": {
          "duration": 0.017968,
          "end_time": "2025-03-20T13:32:40.978519",
          "exception": false,
          "start_time": "2025-03-20T13:32:40.960551",
          "status": "completed"
        },
        "tags": [],
        "id": "b802d94b"
      },
      "source": [
        "The number of stores in the divisions Sylhet, Barisal and Rangpur are very less compared to other divisions."
      ]
    },
    {
      "cell_type": "markdown",
      "id": "aed24d0e",
      "metadata": {
        "papermill": {
          "duration": 0.017971,
          "end_time": "2025-03-20T13:32:41.014953",
          "exception": false,
          "start_time": "2025-03-20T13:32:40.996982",
          "status": "completed"
        },
        "tags": [],
        "id": "aed24d0e"
      },
      "source": [
        "<div style=\"background-color: #CFD8DC; padding: 25px; border-radius: 10px;\">\n",
        "  <h1 style=\"color: #333;\"><strong>Sales in diffrent quarters</strong></h1>\n",
        "</div>"
      ]
    },
    {
      "cell_type": "code",
      "execution_count": null,
      "id": "95c2a310",
      "metadata": {
        "execution": {
          "iopub.execute_input": "2025-03-20T13:32:41.054198Z",
          "iopub.status.busy": "2025-03-20T13:32:41.053921Z",
          "iopub.status.idle": "2025-03-20T13:32:41.276251Z",
          "shell.execute_reply": "2025-03-20T13:32:41.275338Z"
        },
        "papermill": {
          "duration": 0.242943,
          "end_time": "2025-03-20T13:32:41.277847",
          "exception": false,
          "start_time": "2025-03-20T13:32:41.034904",
          "status": "completed"
        },
        "tags": [],
        "id": "95c2a310",
        "outputId": "f6612e5c-2c77-48cc-9a3f-0fcabb766271"
      },
      "outputs": [
        {
          "data": {
            "image/png": "[encoded data removed]",
            "text/plain": [
              "<Figure size 1000x600 with 1 Axes>"
            ]
          },
          "metadata": {},
          "output_type": "display_data"
        }
      ],
      "source": [
        "quarter_sales = df.groupby('quarter')['total_price'].sum().reset_index()\n",
        "\n",
        "plt.figure(figsize=(10, 6))\n",
        "a = sns.lineplot(data=quarter_sales, x='quarter', y='total_price', palette='Set2')\n",
        "\n",
        "plt.title('Sales in Different Quarters')\n",
        "plt.xlabel('Quarter')\n",
        "plt.ylabel('Total Sales Amount')\n",
        "plt.show()"
      ]
    },
    {
      "cell_type": "markdown",
      "id": "729ab345",
      "metadata": {
        "papermill": {
          "duration": 0.018767,
          "end_time": "2025-03-20T13:32:41.317743",
          "exception": false,
          "start_time": "2025-03-20T13:32:41.298976",
          "status": "completed"
        },
        "tags": [],
        "id": "729ab345"
      },
      "source": [
        "The total sales in peak in Quarter 3 and less sales in Quarter 1."
      ]
    },
    {
      "cell_type": "code",
      "execution_count": null,
      "id": "30179944",
      "metadata": {
        "execution": {
          "iopub.execute_input": "2025-03-20T13:32:41.356426Z",
          "iopub.status.busy": "2025-03-20T13:32:41.356152Z",
          "iopub.status.idle": "2025-03-20T13:32:42.695928Z",
          "shell.execute_reply": "2025-03-20T13:32:42.695245Z"
        },
        "papermill": {
          "duration": 1.36065,
          "end_time": "2025-03-20T13:32:42.697350",
          "exception": false,
          "start_time": "2025-03-20T13:32:41.336700",
          "status": "completed"
        },
        "tags": [],
        "id": "30179944"
      },
      "outputs": [],
      "source": [
        "q1 = \"\"\"\n",
        "select quarter, item_description, total_quantity_sold\n",
        "from(\n",
        "select quarter, item_description, total_quantity_sold,\n",
        "dense_rank() over (partition by quarter order by total_quantity_sold desc) as q_rnk\n",
        "from(\n",
        "select quarter, item_description, sum(quantity) as total_quantity_sold\n",
        "from df\n",
        "group by quarter, item_description\n",
        ") a\n",
        ") b\n",
        "where q_rnk = 1 or q_rnk = 2\n",
        "order by 1\n",
        "\"\"\"\n",
        "quart_item_sales = pd.read_sql(q1, ecom_db)"
      ]
    },
    {
      "cell_type": "code",
      "execution_count": null,
      "id": "f07bd9e6",
      "metadata": {
        "execution": {
          "iopub.execute_input": "2025-03-20T13:32:42.737183Z",
          "iopub.status.busy": "2025-03-20T13:32:42.736955Z",
          "iopub.status.idle": "2025-03-20T13:32:42.985534Z",
          "shell.execute_reply": "2025-03-20T13:32:42.984622Z"
        },
        "papermill": {
          "duration": 0.270034,
          "end_time": "2025-03-20T13:32:42.987115",
          "exception": false,
          "start_time": "2025-03-20T13:32:42.717081",
          "status": "completed"
        },
        "tags": [],
        "id": "f07bd9e6",
        "outputId": "4630f374-5e78-453f-c5a1-c43140fa4711"
      },
      "outputs": [
        {
          "data": {
            "image/png": "[encoded data removed]",
            "text/plain": [
              "<Figure size 1000x600 with 1 Axes>"
            ]
          },
          "metadata": {},
          "output_type": "display_data"
        }
      ],
      "source": [
        "plt.figure(figsize=(10, 6))\n",
        "a = sns.lineplot(data=quart_item_sales, x='quarter', y='total_quantity_sold', hue='item_description', palette='Set2')\n",
        "plt.title('Sales in Different Quarters')\n",
        "plt.xlabel('Quarter')\n",
        "plt.ylabel('Total Quantity Sold')\n",
        "\n",
        "\n",
        "plt.tight_layout()\n",
        "plt.show()"
      ]
    },
    {
      "cell_type": "markdown",
      "id": "6d4839fa",
      "metadata": {
        "papermill": {
          "duration": 0.024351,
          "end_time": "2025-03-20T13:32:43.035372",
          "exception": false,
          "start_time": "2025-03-20T13:32:43.011021",
          "status": "completed"
        },
        "tags": [],
        "id": "6d4839fa"
      },
      "source": [
        "* The total quantities sold is at peak in Quarter 3.\n",
        "* In all quarters, Beverage - Soda & Food - Healthy items are most sold."
      ]
    },
    {
      "cell_type": "markdown",
      "id": "54d1e3e9",
      "metadata": {
        "papermill": {
          "duration": 0.020379,
          "end_time": "2025-03-20T13:32:43.076883",
          "exception": false,
          "start_time": "2025-03-20T13:32:43.056504",
          "status": "completed"
        },
        "tags": [],
        "id": "54d1e3e9"
      },
      "source": [
        "<div style=\"background-color: #CFD8DC; padding: 25px; border-radius: 10px;\">\n",
        "  <h1 style=\"color: #333;\"><strong>Month wise sales trend</strong></h1>\n",
        "</div>"
      ]
    },
    {
      "cell_type": "code",
      "execution_count": null,
      "id": "9b40dbfc",
      "metadata": {
        "execution": {
          "iopub.execute_input": "2025-03-20T13:32:43.120383Z",
          "iopub.status.busy": "2025-03-20T13:32:43.119922Z",
          "iopub.status.idle": "2025-03-20T13:32:43.311572Z",
          "shell.execute_reply": "2025-03-20T13:32:43.310565Z"
        },
        "papermill": {
          "duration": 0.215214,
          "end_time": "2025-03-20T13:32:43.313190",
          "exception": false,
          "start_time": "2025-03-20T13:32:43.097976",
          "status": "completed"
        },
        "tags": [],
        "id": "9b40dbfc"
      },
      "outputs": [],
      "source": [
        "df['month'] = pd.to_datetime(df['month'], format='%B').dt.month"
      ]
    },
    {
      "cell_type": "code",
      "execution_count": null,
      "id": "e4901ded",
      "metadata": {
        "execution": {
          "iopub.execute_input": "2025-03-20T13:32:43.355983Z",
          "iopub.status.busy": "2025-03-20T13:32:43.355740Z",
          "iopub.status.idle": "2025-03-20T13:32:43.583468Z",
          "shell.execute_reply": "2025-03-20T13:32:43.582620Z"
        },
        "papermill": {
          "duration": 0.250603,
          "end_time": "2025-03-20T13:32:43.585646",
          "exception": false,
          "start_time": "2025-03-20T13:32:43.335043",
          "status": "completed"
        },
        "tags": [],
        "id": "e4901ded",
        "outputId": "6e05957f-d1f0-4176-930b-35c0e83f56a4"
      },
      "outputs": [
        {
          "data": {
            "image/png": "[encoded data removed]",
            "text/plain": [
              "<Figure size 1000x600 with 1 Axes>"
            ]
          },
          "metadata": {},
          "output_type": "display_data"
        }
      ],
      "source": [
        "month_sales = df.groupby('month')['total_price'].sum().reset_index()\n",
        "\n",
        "plt.figure(figsize=(10, 6))\n",
        "sns.lineplot(data=month_sales, x='month', y='total_price', palette='Set2')\n",
        "plt.title('Monthwise Sales Trend')\n",
        "plt.xlabel('Month')\n",
        "plt.ylabel('Total Sales Amount')\n",
        "plt.tight_layout()\n",
        "plt.show()"
      ]
    },
    {
      "cell_type": "markdown",
      "id": "55dbca2d",
      "metadata": {
        "papermill": {
          "duration": 0.022577,
          "end_time": "2025-03-20T13:32:43.631370",
          "exception": false,
          "start_time": "2025-03-20T13:32:43.608793",
          "status": "completed"
        },
        "tags": [],
        "id": "55dbca2d"
      },
      "source": [
        "<div style=\"background-color: #CFD8DC; padding: 25px; border-radius: 10px;\">\n",
        "  <h1 style=\"color: #333;\"><strong>Payment methods</strong></h1>\n",
        "</div>"
      ]
    },
    {
      "cell_type": "code",
      "execution_count": null,
      "id": "230fa95c",
      "metadata": {
        "execution": {
          "iopub.execute_input": "2025-03-20T13:32:43.676461Z",
          "iopub.status.busy": "2025-03-20T13:32:43.676152Z",
          "iopub.status.idle": "2025-03-20T13:32:43.858318Z",
          "shell.execute_reply": "2025-03-20T13:32:43.857489Z"
        },
        "papermill": {
          "duration": 0.206748,
          "end_time": "2025-03-20T13:32:43.859957",
          "exception": false,
          "start_time": "2025-03-20T13:32:43.653209",
          "status": "completed"
        },
        "tags": [],
        "id": "230fa95c",
        "outputId": "083faa47-898f-4c95-f588-e9bcb8b69796"
      },
      "outputs": [
        {
          "data": {
            "image/png": "[encoded data removed]",
            "text/plain": [
              "<Figure size 1000x600 with 1 Axes>"
            ]
          },
          "metadata": {},
          "output_type": "display_data"
        }
      ],
      "source": [
        "pay_method = df['trans_type'].value_counts().reset_index()\n",
        "\n",
        "explode = [0.2, 0, 0]\n",
        "plt.figure(figsize=(10, 6))\n",
        "plt.pie(pay_method['count'], labels=pay_method['trans_type'], autopct='%1.0f%%', explode=explode, startangle=150, colors=sns.color_palette('Pastel1'))\n",
        "\n",
        "plt.title('Distribution of Payment Methods')\n",
        "plt.tight_layout()\n",
        "plt.show()"
      ]
    },
    {
      "cell_type": "markdown",
      "id": "4940606b",
      "metadata": {
        "papermill": {
          "duration": 0.02145,
          "end_time": "2025-03-20T13:32:43.905874",
          "exception": false,
          "start_time": "2025-03-20T13:32:43.884424",
          "status": "completed"
        },
        "tags": [],
        "id": "4940606b"
      },
      "source": [
        "Almost 90% of the customers use card payment method for their transactions."
      ]
    },
    {
      "cell_type": "markdown",
      "id": "7607b217",
      "metadata": {
        "papermill": {
          "duration": 0.021883,
          "end_time": "2025-03-20T13:32:43.949346",
          "exception": false,
          "start_time": "2025-03-20T13:32:43.927463",
          "status": "completed"
        },
        "tags": [],
        "id": "7607b217"
      },
      "source": [
        "<div style=\"background-color: #CFD8DC; padding: 25px; border-radius: 10px;\">\n",
        "  <h1 style=\"color: #333;\"><strong>Most Used Bank</strong></h1>\n",
        "</div>"
      ]
    },
    {
      "cell_type": "code",
      "execution_count": null,
      "id": "8e4818fe",
      "metadata": {
        "execution": {
          "iopub.execute_input": "2025-03-20T13:32:43.994850Z",
          "iopub.status.busy": "2025-03-20T13:32:43.994597Z",
          "iopub.status.idle": "2025-03-20T13:32:44.306737Z",
          "shell.execute_reply": "2025-03-20T13:32:44.305922Z"
        },
        "papermill": {
          "duration": 0.336593,
          "end_time": "2025-03-20T13:32:44.308599",
          "exception": false,
          "start_time": "2025-03-20T13:32:43.972006",
          "status": "completed"
        },
        "tags": [],
        "id": "8e4818fe",
        "outputId": "0677231d-7aaa-4c49-dc61-3f2e34e930e4"
      },
      "outputs": [
        {
          "data": {
            "image/png": "[encoded data removed]",
            "text/plain": [
              "<Figure size 1500x1000 with 1 Axes>"
            ]
          },
          "metadata": {},
          "output_type": "display_data"
        }
      ],
      "source": [
        "bank = df['bank_name'].value_counts().reset_index().head(10)\n",
        "\n",
        "plt.figure(figsize=(15, 10))\n",
        "a = sns.barplot(data=bank, x='bank_name', y='count', palette='Set2')\n",
        "\n",
        "plt.title('Most used bank')\n",
        "plt.xlabel('Bank Name')\n",
        "plt.ylabel('Count')\n",
        "plt.ylim(25650, max(bank['count'])+100)\n",
        "wrapped_labels = [\"\\n\".join(bank.split(\" \", 2)[:2]) for bank in bank]\n",
        "plt.xticks(rotation=45, ha=\"right\")\n",
        "plt.tight_layout()\n",
        "plt.show()"
      ]
    },
    {
      "cell_type": "markdown",
      "id": "913b50e3",
      "metadata": {
        "papermill": {
          "duration": 0.024886,
          "end_time": "2025-03-20T13:32:44.358222",
          "exception": false,
          "start_time": "2025-03-20T13:32:44.333336",
          "status": "completed"
        },
        "tags": [],
        "id": "913b50e3"
      },
      "source": [
        "<div style=\"background-color: #CFD8DC; padding: 25px; border-radius: 10px;\">\n",
        "  <h1 style=\"color: #333;\"><strong>Final Insights & Recommendations</strong></h1>\n",
        "</div>"
      ]
    },
    {
      "cell_type": "markdown",
      "id": "f4944fdb",
      "metadata": {
        "papermill": {
          "duration": 0.024188,
          "end_time": "2025-03-20T13:32:44.407034",
          "exception": false,
          "start_time": "2025-03-20T13:32:44.382846",
          "status": "completed"
        },
        "tags": [],
        "id": "f4944fdb"
      },
      "source": [
        "## 1. Sales Trends and Performance"
      ]
    },
    {
      "cell_type": "markdown",
      "id": "6ffeeaea",
      "metadata": {
        "papermill": {
          "duration": 0.023772,
          "end_time": "2025-03-20T13:32:44.454569",
          "exception": false,
          "start_time": "2025-03-20T13:32:44.430797",
          "status": "completed"
        },
        "tags": [],
        "id": "6ffeeaea"
      },
      "source": [
        "* Highest sales occurred in 2015, with store S0010 leading in revenue.\n",
        "* No significant growth trend in overall sales over the years.\n",
        "* Sales peak in Q3 (July-Sept), while Q1 has the lowest sales.\n",
        "* Dhaka has the highest sales, while Sylhet, Barisal, and Rangpur have the lowest.\n",
        "\n",
        "**Recommendations:**\n",
        "* Target Q1 promotions to boost sales during slow months.\n",
        "* Expand store presence in low-sales divisions (Sylhet, Barisal, Rangpur)."
      ]
    },
    {
      "cell_type": "markdown",
      "id": "a464d6c6",
      "metadata": {
        "papermill": {
          "duration": 0.023543,
          "end_time": "2025-03-20T13:32:44.501871",
          "exception": false,
          "start_time": "2025-03-20T13:32:44.478328",
          "status": "completed"
        },
        "tags": [],
        "id": "a464d6c6"
      },
      "source": [
        "## 2. Best-Selling Products"
      ]
    },
    {
      "cell_type": "markdown",
      "id": "89da3ed9",
      "metadata": {
        "papermill": {
          "duration": 0.023595,
          "end_time": "2025-03-20T13:32:44.549149",
          "exception": false,
          "start_time": "2025-03-20T13:32:44.525554",
          "status": "completed"
        },
        "tags": [],
        "id": "89da3ed9"
      },
      "source": [
        "Only two product categories dominate sales:\n",
        "\n",
        "* Beverage - Soda\n",
        "* Food - Healthy\n",
        "\n",
        "These items consistently rank highest across all years, quarters and divisions.\n",
        "\n",
        "**Recommendations:**\n",
        "* Diversify the product range to reduce dependence on a few items.\n",
        "* Increase inventory of top-performing products in high-demand regions."
      ]
    },
    {
      "cell_type": "markdown",
      "id": "0402a002",
      "metadata": {
        "papermill": {
          "duration": 0.023905,
          "end_time": "2025-03-20T13:32:44.597073",
          "exception": false,
          "start_time": "2025-03-20T13:32:44.573168",
          "status": "completed"
        },
        "tags": [],
        "id": "0402a002"
      },
      "source": [
        "## 3. Payment Method Analysis"
      ]
    },
    {
      "cell_type": "markdown",
      "id": "75d3a290",
      "metadata": {
        "papermill": {
          "duration": 0.023783,
          "end_time": "2025-03-20T13:32:44.644469",
          "exception": false,
          "start_time": "2025-03-20T13:32:44.620686",
          "status": "completed"
        },
        "tags": [],
        "id": "75d3a290"
      },
      "source": [
        "* 90% of transactions use card payments, while mobile and cash payments are much lower.\n",
        "\n",
        "**Recommendation:**\n",
        "* Promote mobile payments with extra discounts to encourage usage.\n",
        "* Identify if cash users have specific characteristics (e.g., older customers) and adapt marketing."
      ]
    },
    {
      "cell_type": "markdown",
      "id": "e6d425c4",
      "metadata": {
        "execution": {
          "iopub.execute_input": "2025-03-18T14:08:24.792274Z",
          "iopub.status.busy": "2025-03-18T14:08:24.791881Z",
          "iopub.status.idle": "2025-03-18T14:08:24.796180Z",
          "shell.execute_reply": "2025-03-18T14:08:24.795049Z",
          "shell.execute_reply.started": "2025-03-18T14:08:24.792237Z"
        },
        "papermill": {
          "duration": 0.023604,
          "end_time": "2025-03-20T13:32:44.691893",
          "exception": false,
          "start_time": "2025-03-20T13:32:44.668289",
          "status": "completed"
        },
        "tags": [],
        "id": "e6d425c4"
      },
      "source": [
        "## 4. Bank Preferences"
      ]
    },
    {
      "cell_type": "markdown",
      "id": "86e0ebae",
      "metadata": {
        "papermill": {
          "duration": 0.023425,
          "end_time": "2025-03-20T13:32:44.738735",
          "exception": false,
          "start_time": "2025-03-20T13:32:44.715310",
          "status": "completed"
        },
        "tags": [],
        "id": "86e0ebae"
      },
      "source": [
        "* Top 10 banks dominate transactions, but some banks are rarely used.\n",
        "\n",
        "**Recommendation:**\n",
        "* Partner with top banks to offer exclusive discounts for their cardholders.\n",
        "* Encourage partnerships with underused banks to increase customer reach."
      ]
    },
    {
      "cell_type": "markdown",
      "id": "53927dfc",
      "metadata": {
        "papermill": {
          "duration": 0.023563,
          "end_time": "2025-03-20T13:32:44.786232",
          "exception": false,
          "start_time": "2025-03-20T13:32:44.762669",
          "status": "completed"
        },
        "tags": [],
        "id": "53927dfc"
      },
      "source": [
        "## 5. Customer Preferences Based on Item and Location"
      ]
    },
    {
      "cell_type": "markdown",
      "id": "5bcc387f",
      "metadata": {
        "papermill": {
          "duration": 0.023551,
          "end_time": "2025-03-20T13:32:44.833588",
          "exception": false,
          "start_time": "2025-03-20T13:32:44.810037",
          "status": "completed"
        },
        "tags": [],
        "id": "5bcc387f"
      },
      "source": [
        "* Significant relationships exist between customer segment & product choice.\n",
        "* Manufacturing country impacts purchase behavior, suggesting brand loyalty.\n",
        "\n",
        "**Recommendation:**\n",
        "* Region-specific marketing (e.g., tailor promotions based on local preferences).\n",
        "* Use customer segment data to personalize product recommendations."
      ]
    },
    {
      "cell_type": "markdown",
      "id": "17f10e1f",
      "metadata": {
        "execution": {
          "iopub.execute_input": "2025-03-18T14:10:19.562553Z",
          "iopub.status.busy": "2025-03-18T14:10:19.562268Z",
          "iopub.status.idle": "2025-03-18T14:10:19.566136Z",
          "shell.execute_reply": "2025-03-18T14:10:19.565189Z",
          "shell.execute_reply.started": "2025-03-18T14:10:19.562531Z"
        },
        "papermill": {
          "duration": 0.023326,
          "end_time": "2025-03-20T13:32:44.880655",
          "exception": false,
          "start_time": "2025-03-20T13:32:44.857329",
          "status": "completed"
        },
        "tags": [],
        "id": "17f10e1f"
      },
      "source": [
        "## 6. Short-Term Actions"
      ]
    },
    {
      "cell_type": "markdown",
      "id": "0983bb2f",
      "metadata": {
        "papermill": {
          "duration": 0.02394,
          "end_time": "2025-03-20T13:32:44.928414",
          "exception": false,
          "start_time": "2025-03-20T13:32:44.904474",
          "status": "completed"
        },
        "tags": [],
        "id": "0983bb2f"
      },
      "source": [
        "* Boost sales in Q1 (slowest quarter) with limited-time discounts.\n",
        "* Re-engage \"At Risk\" customers through loyalty offers and targeted email campaigns.\n",
        "* Strengthen partnerships with top banks to increase transaction volume."
      ]
    },
    {
      "cell_type": "markdown",
      "id": "66458b34",
      "metadata": {
        "papermill": {
          "duration": 0.023819,
          "end_time": "2025-03-20T13:32:44.975933",
          "exception": false,
          "start_time": "2025-03-20T13:32:44.952114",
          "status": "completed"
        },
        "tags": [],
        "id": "66458b34"
      },
      "source": [
        "## 7. Long-Term Actions"
      ]
    },
    {
      "cell_type": "markdown",
      "id": "f70cb2fd",
      "metadata": {
        "papermill": {
          "duration": 0.023603,
          "end_time": "2025-03-20T13:32:45.023205",
          "exception": false,
          "start_time": "2025-03-20T13:32:44.999602",
          "status": "completed"
        },
        "tags": [],
        "id": "f70cb2fd"
      },
      "source": [
        "* Expand store presence in underperforming regions.\n",
        "* Diversify product offerings beyond Beverage-Soda and Food-Healthy.\n",
        "* Increase adoption of mobile payments via cashback rewards."
      ]
    }
  ],
  "metadata": {
    "kaggle": {
      "accelerator": "nvidiaTeslaT4",
      "dataSources": [
        {
          "datasetId": 4245142,
          "sourceId": 7315500,
          "sourceType": "datasetVersion"
        }
      ],
      "dockerImageVersionId": 30887,
      "isGpuEnabled": true,
      "isInternetEnabled": true,
      "language": "python",
      "sourceType": "notebook"
    },
    "kernelspec": {
      "display_name": "Python 3",
      "language": "python",
      "name": "python3"
    },
    "language_info": {
      "codemirror_mode": {
        "name": "ipython",
        "version": 3
      },
      "file_extension": ".py",
      "mimetype": "text/x-python",
      "name": "python",
      "nbconvert_exporter": "python",
      "pygments_lexer": "ipython3",
      "version": "3.10.12"
    },
    "papermill": {
      "default_parameters": {},
      "duration": 55.972867,
      "end_time": "2025-03-20T13:32:45.967515",
      "environment_variables": {},
      "exception": null,
      "input_path": "__notebook__.ipynb",
      "output_path": "__notebook__.ipynb",
      "parameters": {},
      "start_time": "2025-03-20T13:31:49.994648",
      "version": "2.6.0"
    },
    "colab": {
      "provenance": []
    }
  },
  "nbformat": 4,
  "nbformat_minor": 5
}